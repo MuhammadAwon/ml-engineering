{
 "cells": [
  {
   "cell_type": "markdown",
   "id": "102e687a",
   "metadata": {},
   "source": [
    "## House Price Predictions\n",
    "\n",
    "## Dataset\n",
    "\n",
    "In this homework, we will use the California Housing Prices from [Kaggle](https://www.kaggle.com/datasets/camnugent/california-housing-prices).\n",
    "\n",
    "Here's a wget-able [link]:(https://raw.githubusercontent.com/alexeygrigorev/datasets/master/housing.csv):\n",
    "\n",
    "```bash\n",
    "wget https://raw.githubusercontent.com/alexeygrigorev/datasets/master/housing.csv\n",
    "```\n",
    "\n",
    "Before downloading the dataset, let's import the libraries we are going to need for the project."
   ]
  },
  {
   "cell_type": "code",
   "execution_count": 1,
   "id": "9e71b393",
   "metadata": {},
   "outputs": [],
   "source": [
    "import os\n",
    "import numpy as np\n",
    "import pandas as pd\n",
    "import matplotlib.pyplot as plt\n",
    "import seaborn as sns\n",
    "\n",
    "%matplotlib inline"
   ]
  },
  {
   "cell_type": "markdown",
   "id": "da262e3e",
   "metadata": {},
   "source": [
    "Next we'll download the data using `wget` command shown above."
   ]
  },
  {
   "cell_type": "code",
   "execution_count": 2,
   "id": "afca3c27",
   "metadata": {},
   "outputs": [],
   "source": [
    "if not os.path.isfile('housing.csv'):\n",
    "    !wget https://raw.githubusercontent.com/alexeygrigorev/datasets/master/housing.csv"
   ]
  },
  {
   "cell_type": "markdown",
   "id": "0d49e5c8",
   "metadata": {},
   "source": [
    "## EDA\n",
    "\n",
    "The dataset is saved by the name `housing.csv`, we can read it in pandas dataframe."
   ]
  },
  {
   "cell_type": "code",
   "execution_count": 3,
   "id": "f1118f85",
   "metadata": {},
   "outputs": [
    {
     "data": {
      "text/html": [
       "<div>\n",
       "<style scoped>\n",
       "    .dataframe tbody tr th:only-of-type {\n",
       "        vertical-align: middle;\n",
       "    }\n",
       "\n",
       "    .dataframe tbody tr th {\n",
       "        vertical-align: top;\n",
       "    }\n",
       "\n",
       "    .dataframe thead th {\n",
       "        text-align: right;\n",
       "    }\n",
       "</style>\n",
       "<table border=\"1\" class=\"dataframe\">\n",
       "  <thead>\n",
       "    <tr style=\"text-align: right;\">\n",
       "      <th></th>\n",
       "      <th>longitude</th>\n",
       "      <th>latitude</th>\n",
       "      <th>housing_median_age</th>\n",
       "      <th>total_rooms</th>\n",
       "      <th>total_bedrooms</th>\n",
       "      <th>population</th>\n",
       "      <th>households</th>\n",
       "      <th>median_income</th>\n",
       "      <th>median_house_value</th>\n",
       "      <th>ocean_proximity</th>\n",
       "    </tr>\n",
       "  </thead>\n",
       "  <tbody>\n",
       "    <tr>\n",
       "      <th>0</th>\n",
       "      <td>-122.23</td>\n",
       "      <td>37.88</td>\n",
       "      <td>41.0</td>\n",
       "      <td>880.0</td>\n",
       "      <td>129.0</td>\n",
       "      <td>322.0</td>\n",
       "      <td>126.0</td>\n",
       "      <td>8.3252</td>\n",
       "      <td>452600.0</td>\n",
       "      <td>NEAR BAY</td>\n",
       "    </tr>\n",
       "    <tr>\n",
       "      <th>1</th>\n",
       "      <td>-122.22</td>\n",
       "      <td>37.86</td>\n",
       "      <td>21.0</td>\n",
       "      <td>7099.0</td>\n",
       "      <td>1106.0</td>\n",
       "      <td>2401.0</td>\n",
       "      <td>1138.0</td>\n",
       "      <td>8.3014</td>\n",
       "      <td>358500.0</td>\n",
       "      <td>NEAR BAY</td>\n",
       "    </tr>\n",
       "    <tr>\n",
       "      <th>2</th>\n",
       "      <td>-122.24</td>\n",
       "      <td>37.85</td>\n",
       "      <td>52.0</td>\n",
       "      <td>1467.0</td>\n",
       "      <td>190.0</td>\n",
       "      <td>496.0</td>\n",
       "      <td>177.0</td>\n",
       "      <td>7.2574</td>\n",
       "      <td>352100.0</td>\n",
       "      <td>NEAR BAY</td>\n",
       "    </tr>\n",
       "    <tr>\n",
       "      <th>3</th>\n",
       "      <td>-122.25</td>\n",
       "      <td>37.85</td>\n",
       "      <td>52.0</td>\n",
       "      <td>1274.0</td>\n",
       "      <td>235.0</td>\n",
       "      <td>558.0</td>\n",
       "      <td>219.0</td>\n",
       "      <td>5.6431</td>\n",
       "      <td>341300.0</td>\n",
       "      <td>NEAR BAY</td>\n",
       "    </tr>\n",
       "    <tr>\n",
       "      <th>4</th>\n",
       "      <td>-122.25</td>\n",
       "      <td>37.85</td>\n",
       "      <td>52.0</td>\n",
       "      <td>1627.0</td>\n",
       "      <td>280.0</td>\n",
       "      <td>565.0</td>\n",
       "      <td>259.0</td>\n",
       "      <td>3.8462</td>\n",
       "      <td>342200.0</td>\n",
       "      <td>NEAR BAY</td>\n",
       "    </tr>\n",
       "  </tbody>\n",
       "</table>\n",
       "</div>"
      ],
      "text/plain": [
       "   longitude  latitude  housing_median_age  total_rooms  total_bedrooms  \\\n",
       "0    -122.23     37.88                41.0        880.0           129.0   \n",
       "1    -122.22     37.86                21.0       7099.0          1106.0   \n",
       "2    -122.24     37.85                52.0       1467.0           190.0   \n",
       "3    -122.25     37.85                52.0       1274.0           235.0   \n",
       "4    -122.25     37.85                52.0       1627.0           280.0   \n",
       "\n",
       "   population  households  median_income  median_house_value ocean_proximity  \n",
       "0       322.0       126.0         8.3252            452600.0        NEAR BAY  \n",
       "1      2401.0      1138.0         8.3014            358500.0        NEAR BAY  \n",
       "2       496.0       177.0         7.2574            352100.0        NEAR BAY  \n",
       "3       558.0       219.0         5.6431            341300.0        NEAR BAY  \n",
       "4       565.0       259.0         3.8462            342200.0        NEAR BAY  "
      ]
     },
     "execution_count": 3,
     "metadata": {},
     "output_type": "execute_result"
    }
   ],
   "source": [
    "# Load the data\n",
    "df = pd.read_csv('./housing.csv')\n",
    "df.head()"
   ]
  },
  {
   "cell_type": "markdown",
   "id": "ff5fcc2f",
   "metadata": {},
   "source": [
    "Check the number of rows and columns:"
   ]
  },
  {
   "cell_type": "code",
   "execution_count": 4,
   "id": "f07ad44d",
   "metadata": {},
   "outputs": [
    {
     "data": {
      "text/plain": [
       "(20640, 10)"
      ]
     },
     "execution_count": 4,
     "metadata": {},
     "output_type": "execute_result"
    }
   ],
   "source": [
    "df.shape"
   ]
  },
  {
   "cell_type": "markdown",
   "id": "fad853cf",
   "metadata": {},
   "source": [
    "The dataframe consists of 20640 rows and 10 columns. Let's find out the data types of features in the data."
   ]
  },
  {
   "cell_type": "code",
   "execution_count": 5,
   "id": "3bd25f5f",
   "metadata": {},
   "outputs": [
    {
     "data": {
      "text/plain": [
       "longitude             float64\n",
       "latitude              float64\n",
       "housing_median_age    float64\n",
       "total_rooms           float64\n",
       "total_bedrooms        float64\n",
       "population            float64\n",
       "households            float64\n",
       "median_income         float64\n",
       "median_house_value    float64\n",
       "ocean_proximity        object\n",
       "dtype: object"
      ]
     },
     "execution_count": 5,
     "metadata": {},
     "output_type": "execute_result"
    }
   ],
   "source": [
    "df.dtypes"
   ]
  },
  {
   "cell_type": "markdown",
   "id": "2cdc2bc4",
   "metadata": {},
   "source": [
    "All the columns are numeric except `ocean_proximity`. We should look at the column `median_house_value` and see if it has a long tail."
   ]
  },
  {
   "cell_type": "code",
   "execution_count": 6,
   "id": "286e3803",
   "metadata": {},
   "outputs": [
    {
     "data": {
      "image/png": "[encoded data removed]",
      "text/plain": [
       "<Figure size 640x480 with 1 Axes>"
      ]
     },
     "metadata": {},
     "output_type": "display_data"
    }
   ],
   "source": [
    "sns.histplot(df.median_house_value)\n",
    "plt.show();"
   ]
  },
  {
   "cell_type": "markdown",
   "id": "30750511",
   "metadata": {},
   "source": [
    "The distribution is not normal in `median_house_value`, rather it is a long-tail distribution.\n",
    "\n",
    "## Features\n",
    "\n",
    "For the rest of the homework, we'll need to use only these columns:\n",
    "\n",
    "- `latitude`\n",
    "- `longitude`\n",
    "- `housing_median_age`\n",
    "- `total_rooms`\n",
    "- `total_bedrooms`\n",
    "- `population`\n",
    "- `households`\n",
    "- `median_income`\n",
    "- `median_house_value`\n",
    "\n",
    "Since we are not going to need `ocean_proximity` column, it is safe to drop the column using `df.drop()` function."
   ]
  },
  {
   "cell_type": "code",
   "execution_count": 7,
   "id": "5f775d1e",
   "metadata": {},
   "outputs": [
    {
     "data": {
      "text/html": [
       "<div>\n",
       "<style scoped>\n",
       "    .dataframe tbody tr th:only-of-type {\n",
       "        vertical-align: middle;\n",
       "    }\n",
       "\n",
       "    .dataframe tbody tr th {\n",
       "        vertical-align: top;\n",
       "    }\n",
       "\n",
       "    .dataframe thead th {\n",
       "        text-align: right;\n",
       "    }\n",
       "</style>\n",
       "<table border=\"1\" class=\"dataframe\">\n",
       "  <thead>\n",
       "    <tr style=\"text-align: right;\">\n",
       "      <th></th>\n",
       "      <th>longitude</th>\n",
       "      <th>latitude</th>\n",
       "      <th>housing_median_age</th>\n",
       "      <th>total_rooms</th>\n",
       "      <th>total_bedrooms</th>\n",
       "      <th>population</th>\n",
       "      <th>households</th>\n",
       "      <th>median_income</th>\n",
       "      <th>median_house_value</th>\n",
       "    </tr>\n",
       "  </thead>\n",
       "  <tbody>\n",
       "    <tr>\n",
       "      <th>0</th>\n",
       "      <td>-122.23</td>\n",
       "      <td>37.88</td>\n",
       "      <td>41.0</td>\n",
       "      <td>880.0</td>\n",
       "      <td>129.0</td>\n",
       "      <td>322.0</td>\n",
       "      <td>126.0</td>\n",
       "      <td>8.3252</td>\n",
       "      <td>452600.0</td>\n",
       "    </tr>\n",
       "    <tr>\n",
       "      <th>1</th>\n",
       "      <td>-122.22</td>\n",
       "      <td>37.86</td>\n",
       "      <td>21.0</td>\n",
       "      <td>7099.0</td>\n",
       "      <td>1106.0</td>\n",
       "      <td>2401.0</td>\n",
       "      <td>1138.0</td>\n",
       "      <td>8.3014</td>\n",
       "      <td>358500.0</td>\n",
       "    </tr>\n",
       "    <tr>\n",
       "      <th>2</th>\n",
       "      <td>-122.24</td>\n",
       "      <td>37.85</td>\n",
       "      <td>52.0</td>\n",
       "      <td>1467.0</td>\n",
       "      <td>190.0</td>\n",
       "      <td>496.0</td>\n",
       "      <td>177.0</td>\n",
       "      <td>7.2574</td>\n",
       "      <td>352100.0</td>\n",
       "    </tr>\n",
       "    <tr>\n",
       "      <th>3</th>\n",
       "      <td>-122.25</td>\n",
       "      <td>37.85</td>\n",
       "      <td>52.0</td>\n",
       "      <td>1274.0</td>\n",
       "      <td>235.0</td>\n",
       "      <td>558.0</td>\n",
       "      <td>219.0</td>\n",
       "      <td>5.6431</td>\n",
       "      <td>341300.0</td>\n",
       "    </tr>\n",
       "    <tr>\n",
       "      <th>4</th>\n",
       "      <td>-122.25</td>\n",
       "      <td>37.85</td>\n",
       "      <td>52.0</td>\n",
       "      <td>1627.0</td>\n",
       "      <td>280.0</td>\n",
       "      <td>565.0</td>\n",
       "      <td>259.0</td>\n",
       "      <td>3.8462</td>\n",
       "      <td>342200.0</td>\n",
       "    </tr>\n",
       "  </tbody>\n",
       "</table>\n",
       "</div>"
      ],
      "text/plain": [
       "   longitude  latitude  housing_median_age  total_rooms  total_bedrooms  \\\n",
       "0    -122.23     37.88                41.0        880.0           129.0   \n",
       "1    -122.22     37.86                21.0       7099.0          1106.0   \n",
       "2    -122.24     37.85                52.0       1467.0           190.0   \n",
       "3    -122.25     37.85                52.0       1274.0           235.0   \n",
       "4    -122.25     37.85                52.0       1627.0           280.0   \n",
       "\n",
       "   population  households  median_income  median_house_value  \n",
       "0       322.0       126.0         8.3252            452600.0  \n",
       "1      2401.0      1138.0         8.3014            358500.0  \n",
       "2       496.0       177.0         7.2574            352100.0  \n",
       "3       558.0       219.0         5.6431            341300.0  \n",
       "4       565.0       259.0         3.8462            342200.0  "
      ]
     },
     "execution_count": 7,
     "metadata": {},
     "output_type": "execute_result"
    }
   ],
   "source": [
    "# Drop 'ocean_proximity' columns\n",
    "df = df.drop(columns='ocean_proximity', axis=1)\n",
    "df.head()"
   ]
  },
  {
   "cell_type": "markdown",
   "id": "4d98b1d7",
   "metadata": {},
   "source": [
    "## Question 1\n",
    "\n",
    "Find a feature with missing values. How many missing values does it have?"
   ]
  },
  {
   "cell_type": "code",
   "execution_count": 8,
   "id": "0d5d7226",
   "metadata": {},
   "outputs": [
    {
     "data": {
      "text/plain": [
       "longitude               0\n",
       "latitude                0\n",
       "housing_median_age      0\n",
       "total_rooms             0\n",
       "total_bedrooms        207\n",
       "population              0\n",
       "households              0\n",
       "median_income           0\n",
       "median_house_value      0\n",
       "dtype: int64"
      ]
     },
     "execution_count": 8,
     "metadata": {},
     "output_type": "execute_result"
    }
   ],
   "source": [
    "# Find columns with missing values\n",
    "df.isnull().sum()"
   ]
  },
  {
   "cell_type": "markdown",
   "id": "b7b0b6ab",
   "metadata": {},
   "source": [
    "There are 207 missing values in the feature `total_bedrooms`."
   ]
  },
  {
   "cell_type": "markdown",
   "id": "e2227be6",
   "metadata": {},
   "source": [
    "## Question 2\n",
    "\n",
    "What's the median (50% percentile) for variable `population`?"
   ]
  },
  {
   "cell_type": "code",
   "execution_count": 9,
   "id": "bcb20c6d",
   "metadata": {},
   "outputs": [
    {
     "data": {
      "text/plain": [
       "1166.0"
      ]
     },
     "execution_count": 9,
     "metadata": {},
     "output_type": "execute_result"
    }
   ],
   "source": [
    "df['population'].median()"
   ]
  },
  {
   "cell_type": "markdown",
   "id": "29108cf2",
   "metadata": {},
   "source": [
    "The median value of `population` is 1166.\n",
    "\n",
    "### Split the Data\n",
    "\n",
    "- Shuffle the initial dataset, use seed `42`\n",
    "- Split the data into train/val/test sets, with 60%/20%/20% distribution\n",
    "- Make sure that the target value (`median_house_value`) is not in the dataframe\n",
    "- Apply the log transformation to the `median_house_value` using `np.log1p()` function.\n",
    "\n",
    "Set random seed."
   ]
  },
  {
   "cell_type": "code",
   "execution_count": 10,
   "id": "bacb4cbb",
   "metadata": {},
   "outputs": [],
   "source": [
    "# Set the random seed 42\n",
    "np.random.seed(42)\n",
    "\n",
    "# Create an array 'idx' that has equal num of rows as in 'df'\n",
    "idx = np.arange(df.shape[0])\n",
    "\n",
    "# Shuffle the index\n",
    "np.random.shuffle(idx)"
   ]
  },
  {
   "cell_type": "markdown",
   "id": "420c00d0",
   "metadata": {},
   "source": [
    "Set the ration for train/val/test datasets."
   ]
  },
  {
   "cell_type": "code",
   "execution_count": 11,
   "id": "218baa97",
   "metadata": {},
   "outputs": [],
   "source": [
    "# Set the ratio of train/val/test datasets\n",
    "n = len(df)\n",
    "\n",
    "val_ratio = int(n * 0.2)\n",
    "test_ratio = int(n * 0.2)\n",
    "train_ratio = n - val_ratio - test_ratio"
   ]
  },
  {
   "cell_type": "code",
   "execution_count": 12,
   "id": "d21c2c14",
   "metadata": {},
   "outputs": [],
   "source": [
    "# Split and shuffle the data into train/val/test sets\n",
    "df_train = df.iloc[idx[:train_ratio]]\n",
    "df_val = df.iloc[idx[train_ratio:train_ratio+val_ratio]]\n",
    "df_test = df.iloc[idx[train_ratio+val_ratio:]]"
   ]
  },
  {
   "cell_type": "markdown",
   "id": "0a89df9f",
   "metadata": {},
   "source": [
    "Split and shuffle the data"
   ]
  },
  {
   "cell_type": "code",
   "execution_count": 13,
   "id": "91ebff60",
   "metadata": {},
   "outputs": [],
   "source": [
    "# Reset the indexes of train/val/test sets\n",
    "df_train = df_train.reset_index(drop=True)\n",
    "df_val = df_val.reset_index(drop=True)\n",
    "df_test = df_test.reset_index(drop=True)"
   ]
  },
  {
   "cell_type": "markdown",
   "id": "bc5a91b9",
   "metadata": {},
   "source": [
    "Create target variable for train/val/test."
   ]
  },
  {
   "cell_type": "code",
   "execution_count": 14,
   "id": "de448f6b",
   "metadata": {},
   "outputs": [],
   "source": [
    "# Create target variable 'y' for train/val/test\n",
    "y_train = df_train['median_house_value'].values\n",
    "y_val = df_val['median_house_value'].values\n",
    "y_test = df_test['median_house_value'].values"
   ]
  },
  {
   "cell_type": "code",
   "execution_count": 15,
   "id": "d2728454",
   "metadata": {},
   "outputs": [],
   "source": [
    "# Delete the target variable 'median_house_value'\n",
    "# from train/val/test sets\n",
    "del df_train['median_house_value']\n",
    "del df_val['median_house_value']\n",
    "del df_test['median_house_value']"
   ]
  },
  {
   "cell_type": "markdown",
   "id": "4e9c521a",
   "metadata": {},
   "source": [
    "Apply log transformation on target varaible."
   ]
  },
  {
   "cell_type": "code",
   "execution_count": 16,
   "id": "98c661ea",
   "metadata": {},
   "outputs": [],
   "source": [
    "# Apply log transformation to 'median_house_value'\n",
    "y_train = np.log1p(y_train)\n",
    "y_val = np.log1p(y_val)\n",
    "y_test = np.log1p(y_test)"
   ]
  },
  {
   "cell_type": "markdown",
   "id": "5ca81351",
   "metadata": {},
   "source": [
    "## Question 3\n",
    "\n",
    "- We need to deal with missing values for the column from Q1 (`total_bedrooms`) \n",
    "- We have two option: fill it with 0 or with the mean of the variable `total_bedrooms`\n",
    "- Try both options. For each, train a linear regression model without regularization using the code from the lessons.\n",
    "- For computing the mean, use the training only! (val and test data don't have missing values)\n",
    "- Use the validation dataset to evaluate the models and compare the RMSE of each options.\n",
    "- Round the RMSE scores to 2 decimal digits using `round(score, 2)`\n",
    "- Which option gives better RMSE?\n",
    "\n",
    "Options:\n",
    "\n",
    "- With 0\n",
    "- With mean\n",
    "- Both are equally good\n",
    "\n",
    "For data preprocessing, We'll create a function `prepare_X` that takes a dataframe and an optional parameter `fillna_value` and performs following tasks:\n",
    "\n",
    "- Make the copy of the dataframe\n",
    "- If `fillna_value` is provided, it will only manipulate `df_train` data for:\n",
    "    - Fill missing values with 0 when `fillna_value=0` and convert \"df_train\" to the numpy feature matrix \"X\"\n",
    "    - Fill missing values with mean when `fillna_value='mean'` and convert \"df_train\" to the numpy feature matrix \"X\"\n",
    "- If `fillna_value` is not provided then simply convert dataframe (`val` or `test`) to numpy feature matrix \"X\""
   ]
  },
  {
   "cell_type": "code",
   "execution_count": 17,
   "id": "cdebd0f5",
   "metadata": {},
   "outputs": [],
   "source": [
    "def prepare_X(df, fillna_value=None):\n",
    "    df = df.copy()\n",
    "    if fillna_value == 0:\n",
    "        df['total_bedrooms'] = df['total_bedrooms'].fillna(0)\n",
    "        X = df.values\n",
    "    elif fillna_value == 'mean':\n",
    "        col_mean = df['total_bedrooms'].mean()\n",
    "        df['total_bedrooms'] = df['total_bedrooms'].fillna(col_mean)\n",
    "        X = df.values\n",
    "    else:\n",
    "        X = df.values\n",
    "    return X"
   ]
  },
  {
   "cell_type": "markdown",
   "id": "9e1f80c1",
   "metadata": {},
   "source": [
    "We have the `prepare_X()` function for creating feature matrix to training. Let's start by fillna with 0 and train the model."
   ]
  },
  {
   "cell_type": "code",
   "execution_count": 18,
   "id": "2520c1a0",
   "metadata": {},
   "outputs": [],
   "source": [
    "# Create feature matrix 'X_train_zero' by filling missing values\n",
    "# with 0\n",
    "X_train_zero = prepare_X(df_train, fillna_value=0)"
   ]
  },
  {
   "cell_type": "markdown",
   "id": "d2074536",
   "metadata": {},
   "source": [
    "Let's confirm that `X_train_zero` has no missing values."
   ]
  },
  {
   "cell_type": "code",
   "execution_count": 19,
   "id": "e0564b41",
   "metadata": {},
   "outputs": [
    {
     "data": {
      "text/plain": [
       "False"
      ]
     },
     "execution_count": 19,
     "metadata": {},
     "output_type": "execute_result"
    }
   ],
   "source": [
    "# Check if there is any missing values\n",
    "np.isnan(X_train_zero).any()"
   ]
  },
  {
   "cell_type": "markdown",
   "id": "feded0dd",
   "metadata": {},
   "source": [
    "Next, we'll create another feature matrix for training `X_train_mean` and fill the missing values of column `total_bedrooms` with mean."
   ]
  },
  {
   "cell_type": "code",
   "execution_count": 20,
   "id": "12e2794f",
   "metadata": {},
   "outputs": [],
   "source": [
    "# Create feature matrix 'X_train_mean' by filling missing values\n",
    "# with the mean\n",
    "X_train_mean = prepare_X(df_train, fillna_value='mean')"
   ]
  },
  {
   "cell_type": "code",
   "execution_count": 21,
   "id": "93473e7c",
   "metadata": {},
   "outputs": [
    {
     "data": {
      "text/plain": [
       "False"
      ]
     },
     "execution_count": 21,
     "metadata": {},
     "output_type": "execute_result"
    }
   ],
   "source": [
    "# Check if there is any missing value in 'X_train_mean'\n",
    "np.isnan(X_train_mean).any()"
   ]
  },
  {
   "cell_type": "markdown",
   "id": "024e6ffb",
   "metadata": {},
   "source": [
    "We have successfully fill missing values with 0 and mean. Next we'll create function `train_linear_regression()` that takes feature matrix and target vector from train dataset and perform the following steps:\n",
    "\n",
    "- Create a vector of all ones that has equal number of rows in feature matrix\n",
    "- Add the column vector of all ones (bias) with the feature matrix\n",
    "- Calculate the *Gram matrix* (dot product of a matrix with its own transpose)\n",
    "- Compute the inverse of Gram matrix\n",
    "- Find the weights by taking the dot product of `inverse of Grame matrix` with `transpose of feature matrix` and their dot product with the `target vector`.\n",
    "- Return the bias and weights"
   ]
  },
  {
   "cell_type": "code",
   "execution_count": 22,
   "id": "512af0ee",
   "metadata": {},
   "outputs": [],
   "source": [
    "def train_linear_regression(X, y):\n",
    "    ones = np.ones(X.shape[0])\n",
    "    X = np.column_stack([ones, X])\n",
    "    \n",
    "    XTX = X.T.dot(X)\n",
    "    XTX_inv = np.linalg.inv(XTX)\n",
    "    w_full = XTX_inv.dot(X.T).dot(y)\n",
    "    \n",
    "    return w_full[0], w_full[1:]"
   ]
  },
  {
   "cell_type": "markdown",
   "id": "abf7de96",
   "metadata": {},
   "source": [
    "We have our training function. Now, we'll train the model using `X_train_zero` and `X_train_mean`."
   ]
  },
  {
   "cell_type": "code",
   "execution_count": 23,
   "id": "53381324",
   "metadata": {},
   "outputs": [],
   "source": [
    "# Train the model using `X_train_zero`\n",
    "w0_zero, w_zero = train_linear_regression(X_train_zero, y_train)\n",
    "\n",
    "# Train the model using `X_train_mean`\n",
    "w0_mean, w_mean = train_linear_regression(X_train_mean, y_train)"
   ]
  },
  {
   "cell_type": "markdown",
   "id": "7e217b4c",
   "metadata": {},
   "source": [
    "The models have been trained. We now prepare `X_val` for making predictions."
   ]
  },
  {
   "cell_type": "code",
   "execution_count": 24,
   "id": "37e5a2e6",
   "metadata": {},
   "outputs": [],
   "source": [
    "# Create 'X_val' feature matrix\n",
    "X_val = prepare_X(df_val)"
   ]
  },
  {
   "cell_type": "markdown",
   "id": "76994b3f",
   "metadata": {},
   "source": [
    "Make predictions on the `X_val` using our trained models."
   ]
  },
  {
   "cell_type": "code",
   "execution_count": 25,
   "id": "1a7a58eb",
   "metadata": {},
   "outputs": [],
   "source": [
    "# Make predictions on 'X_val'\n",
    "# using model trained on 'X_train_zero'\n",
    "y_pred_zero = w0_zero + X_val.dot(w_zero)\n",
    "\n",
    "# Make predictions on 'X_val'\n",
    "# using model trained on 'X_train_mean'\n",
    "y_pred_mean = w0_mean + X_val.dot(w_mean)"
   ]
  },
  {
   "cell_type": "markdown",
   "id": "0d458475",
   "metadata": {},
   "source": [
    "To evaluate the models performance we'll create a function `rmse()` that will take target vector `y` and predictions `y_pred` and do the following:\n",
    "\n",
    "- Calculate the difference (error)\n",
    "- Calculate the square of the error\n",
    "- Compute the mean of the squared error\n",
    "- return the root mean squared error"
   ]
  },
  {
   "cell_type": "code",
   "execution_count": 26,
   "id": "6e656d58",
   "metadata": {},
   "outputs": [],
   "source": [
    "def rmse(y, y_pred):\n",
    "    error = y - y_pred\n",
    "    se = error ** 2\n",
    "    mse = se.mean()\n",
    "    return np.sqrt(mse)"
   ]
  },
  {
   "cell_type": "markdown",
   "id": "6d1163b3",
   "metadata": {},
   "source": [
    "Let's evaluate the models using `rmse()` function."
   ]
  },
  {
   "cell_type": "code",
   "execution_count": 27,
   "id": "5ed77172",
   "metadata": {},
   "outputs": [
    {
     "data": {
      "text/plain": [
       "0.33"
      ]
     },
     "execution_count": 27,
     "metadata": {},
     "output_type": "execute_result"
    }
   ],
   "source": [
    "# Calculate RMSE on X_train_zero\n",
    "score_zero = rmse(y_val, y_pred_zero)\n",
    "round(score_zero, 2)"
   ]
  },
  {
   "cell_type": "code",
   "execution_count": 28,
   "id": "c148666a",
   "metadata": {},
   "outputs": [
    {
     "data": {
      "text/plain": [
       "0.33"
      ]
     },
     "execution_count": 28,
     "metadata": {},
     "output_type": "execute_result"
    }
   ],
   "source": [
    "# Calculate RMSE on X_train_mean\n",
    "score_mean = rmse(y_val, y_pred_mean)\n",
    "round(score_mean, 2)"
   ]
  },
  {
   "cell_type": "markdown",
   "id": "6be0c07a",
   "metadata": {},
   "source": [
    "As we can see there is no significant difference between the performance of both models. Whether we replace the missing values the 0 or with the mean, the evaluation score is similar."
   ]
  },
  {
   "cell_type": "markdown",
   "id": "af554505",
   "metadata": {},
   "source": [
    "## Question 4\n",
    "\n",
    "- Now let's train a regularized linear regression\n",
    "- For this question, fill the NAs with 0\n",
    "- Try different values of `r` from the list: `[0, 0.000001, 0.0001, 0.001, 0.01, 0.1, 1, 5, 10]`\n",
    "- Use RMSE to evaluate the model on the validation dataset\n",
    "- Round the RMSE scores to 2 decimal digits\n",
    "- Which `r` gives the best RMSE?\n",
    "\n",
    "Options:\n",
    "\n",
    "- 0\n",
    "- 0.000001\n",
    "- 0.001\n",
    "- 0.0001\n",
    "\n",
    "We'll have to modify the `train_linear_regression()` function that accepts regularizer as a parameter. Which means we'll add a following step in our training function:\n",
    "\n",
    "- Create an identity matrix equals to the number of rows of Gram matrix, which then be multiplied by the regularizer `r` and added back to the Gram matrix"
   ]
  },
  {
   "cell_type": "code",
   "execution_count": 29,
   "id": "195ffb41",
   "metadata": {},
   "outputs": [],
   "source": [
    "def train_linear_regression_reg(X, y, r=0):\n",
    "    ones = np.ones(X.shape[0])\n",
    "    X = np.column_stack([ones, X])\n",
    "    \n",
    "    XTX = X.T.dot(X)\n",
    "    XTX = XTX + r * np.eye(XTX.shape[0])\n",
    "    \n",
    "    XTX_inv = np.linalg.inv(XTX)\n",
    "    w_full = XTX_inv.dot(X.T).dot(y)\n",
    "    \n",
    "    return w_full[0], w_full[1:]"
   ]
  },
  {
   "cell_type": "markdown",
   "id": "c0863d25",
   "metadata": {},
   "source": [
    "We will train our model using `X_train_zero`, `y_train`, and a list of values of `r` to find the optimal value."
   ]
  },
  {
   "cell_type": "code",
   "execution_count": 30,
   "id": "a35c03c2",
   "metadata": {},
   "outputs": [],
   "source": [
    "r_values = [0, 0.000001, 0.0001, 0.001, 0.01, 0.1, 1, 5, 10]\n",
    "rmse_score = []\n",
    "\n",
    "for r in r_values:\n",
    "    w0, w = train_linear_regression_reg(X_train_zero, y_train, r=r)\n",
    "    y_pred = w0 + X_val.dot(w)\n",
    "    score = rmse(y_val, y_pred)\n",
    "\n",
    "    rmse_score.append(score)"
   ]
  },
  {
   "cell_type": "code",
   "execution_count": 31,
   "id": "f5fcf6aa",
   "metadata": {},
   "outputs": [
    {
     "data": {
      "text/html": [
       "<div>\n",
       "<style scoped>\n",
       "    .dataframe tbody tr th:only-of-type {\n",
       "        vertical-align: middle;\n",
       "    }\n",
       "\n",
       "    .dataframe tbody tr th {\n",
       "        vertical-align: top;\n",
       "    }\n",
       "\n",
       "    .dataframe thead th {\n",
       "        text-align: right;\n",
       "    }\n",
       "</style>\n",
       "<table border=\"1\" class=\"dataframe\">\n",
       "  <thead>\n",
       "    <tr style=\"text-align: right;\">\n",
       "      <th></th>\n",
       "      <th>r</th>\n",
       "      <th>rmse</th>\n",
       "      <th>rounded_rmse</th>\n",
       "    </tr>\n",
       "  </thead>\n",
       "  <tbody>\n",
       "    <tr>\n",
       "      <th>0</th>\n",
       "      <td>0.000000</td>\n",
       "      <td>0.329533</td>\n",
       "      <td>0.33</td>\n",
       "    </tr>\n",
       "    <tr>\n",
       "      <th>1</th>\n",
       "      <td>0.000001</td>\n",
       "      <td>0.329533</td>\n",
       "      <td>0.33</td>\n",
       "    </tr>\n",
       "    <tr>\n",
       "      <th>2</th>\n",
       "      <td>0.000100</td>\n",
       "      <td>0.329533</td>\n",
       "      <td>0.33</td>\n",
       "    </tr>\n",
       "    <tr>\n",
       "      <th>3</th>\n",
       "      <td>0.001000</td>\n",
       "      <td>0.329533</td>\n",
       "      <td>0.33</td>\n",
       "    </tr>\n",
       "    <tr>\n",
       "      <th>4</th>\n",
       "      <td>0.010000</td>\n",
       "      <td>0.329532</td>\n",
       "      <td>0.33</td>\n",
       "    </tr>\n",
       "    <tr>\n",
       "      <th>5</th>\n",
       "      <td>0.100000</td>\n",
       "      <td>0.329695</td>\n",
       "      <td>0.33</td>\n",
       "    </tr>\n",
       "    <tr>\n",
       "      <th>6</th>\n",
       "      <td>1.000000</td>\n",
       "      <td>0.333789</td>\n",
       "      <td>0.33</td>\n",
       "    </tr>\n",
       "    <tr>\n",
       "      <th>7</th>\n",
       "      <td>5.000000</td>\n",
       "      <td>0.339249</td>\n",
       "      <td>0.34</td>\n",
       "    </tr>\n",
       "    <tr>\n",
       "      <th>8</th>\n",
       "      <td>10.000000</td>\n",
       "      <td>0.340606</td>\n",
       "      <td>0.34</td>\n",
       "    </tr>\n",
       "  </tbody>\n",
       "</table>\n",
       "</div>"
      ],
      "text/plain": [
       "           r      rmse  rounded_rmse\n",
       "0   0.000000  0.329533          0.33\n",
       "1   0.000001  0.329533          0.33\n",
       "2   0.000100  0.329533          0.33\n",
       "3   0.001000  0.329533          0.33\n",
       "4   0.010000  0.329532          0.33\n",
       "5   0.100000  0.329695          0.33\n",
       "6   1.000000  0.333789          0.33\n",
       "7   5.000000  0.339249          0.34\n",
       "8  10.000000  0.340606          0.34"
      ]
     },
     "execution_count": 31,
     "metadata": {},
     "output_type": "execute_result"
    }
   ],
   "source": [
    "# Store 'r' and 'rmse_score' in a dataframe for comparison\n",
    "df_rmse = pd.DataFrame({'r': r_values, 'rmse': rmse_score})\n",
    "df_rmse['rounded_rmse'] = round(df_rmse['rmse'], 2)\n",
    "df_rmse"
   ]
  },
  {
   "cell_type": "markdown",
   "id": "c6737225",
   "metadata": {},
   "source": [
    "From the given options both `0.0001` and `0.001` have the same score but we'll consider the smallest value of `r`. Therefore, we'll go with `r=0.0001` is the best option."
   ]
  },
  {
   "cell_type": "markdown",
   "id": "648f8dfd",
   "metadata": {},
   "source": [
    "## Question 5\n",
    "\n",
    "- We used seed 42 for splitting the data. Let's find out how selecting the seed influences our score\n",
    "- Try different seed values: `[0, 1, 2, 3, 4, 5, 6, 7, 8, 9]`\n",
    "- For each seed, do the train/val/test split with 60%/20%/20% distribution\n",
    "- Fill the missing values with 0 and train a model without regularization\n",
    "- For each seed, evaluate the model on the validation dataset and collect the RMSE scores\n",
    "- What's the standard deviation of the all scores? To compute the standard deviation, use `np.std`\n",
    "- Round the results to 3 decimal digits `round(std, 3)`\n",
    "\n",
    "> Note: Standard deviation shows how different the values are. If it's low, then all values are approximately the same. If it's high, the values are different. If standard deviation of scores is low, then our model is stable.\n",
    "\n",
    "Options:\n",
    "\n",
    "- 0.16\n",
    "- 0.00005\n",
    "- 0.005\n",
    "- 0.15555\n",
    "\n",
    "To implement the steps above we'll create an empty dictionary `seed_dict` to store seed numbers and their `rmse` scores respectively. Then, we'll loop over the list of `seeds` and perform the task we have done previously, such as:\n",
    "\n",
    "- Split and shuffle the data for train/validation/test sets\n",
    "- Create target vectors and apply log transformation\n",
    "- Train the model and make predictions on validation\n",
    "- Evaluate the model on validation"
   ]
  },
  {
   "cell_type": "code",
   "execution_count": 32,
   "id": "7511a733",
   "metadata": {},
   "outputs": [],
   "source": [
    "# Number of rows in 'df'\n",
    "n = df.shape[0]\n",
    "# Create an array of 'n' rows\n",
    "idx = np.arange(n)\n",
    "\n",
    "# List of seeds\n",
    "seeds = [0, 1, 2, 3, 4, 5, 6, 7, 8, 9]\n",
    "# Seed dict of store 'rmse score'\n",
    "seed_dict = {seed: {} for seed in seeds}\n",
    "\n",
    "for s in seeds:\n",
    "    \n",
    "    # Set random seed\n",
    "    np.random.seed(s)\n",
    "    # Shuffle index\n",
    "    np.random.shuffle(idx)\n",
    "    \n",
    "    # Split and shuffle the data\n",
    "    df_train = df.iloc[idx[:train_ratio]]\n",
    "    df_val = df.iloc[idx[train_ratio:train_ratio+val_ratio]]\n",
    "    df_test = df.iloc[idx[train_ratio+val_ratio:]]\n",
    "    \n",
    "    # Reset the indexes\n",
    "    df_train = df_train.reset_index(drop=True)\n",
    "    df_val = df_val.reset_index(drop=True)\n",
    "    df_test = df_test.reset_index(drop=True)\n",
    "    \n",
    "    # Create target variable 'y'\n",
    "    y_train = df_train['median_house_value'].values\n",
    "    y_val = df_val['median_house_value'].values\n",
    "    y_test = df_test['median_house_value'].values\n",
    "    \n",
    "    # Apply log transformation to 'median_house_value'\n",
    "    y_train = np.log1p(y_train)\n",
    "    y_val = np.log1p(y_val)\n",
    "    y_test = np.log1p(y_test)\n",
    "    \n",
    "    # Drop the target columns from features\n",
    "    df_train.drop(columns='median_house_value', axis=1, inplace=True)\n",
    "    df_val.drop(columns='median_house_value', axis=1, inplace=True)\n",
    "    df_test.drop(columns='median_house_value', axis=1, inplace=True)\n",
    "\n",
    "    \n",
    "    # Prepare Feature matrix and fill missing values with 0\n",
    "    # Only transform train and validation data\n",
    "    X_train_zero = prepare_X(df_train, fillna_value=0)\n",
    "    X_val_zero = prepare_X(df_val, fillna_value=0)\n",
    "    \n",
    "    # Train the model\n",
    "    w0, w = train_linear_regression(X_train_zero, y_train)\n",
    "    \n",
    "    # Make predictions\n",
    "    y_pred = w0 + X_val_zero.dot(w)\n",
    "    \n",
    "    # Compute RMSE\n",
    "    score = rmse(y_val, y_pred)\n",
    "    \n",
    "    # Store result in 'seed_dict' \n",
    "    seed_dict[s]['rmse'] = score"
   ]
  },
  {
   "cell_type": "code",
   "execution_count": 33,
   "id": "aca27ab3",
   "metadata": {},
   "outputs": [
    {
     "data": {
      "text/plain": [
       "{0: {'rmse': 0.33884304805314536},\n",
       " 1: {'rmse': 0.3390390788700666},\n",
       " 2: {'rmse': 0.34923218040151777},\n",
       " 3: {'rmse': 0.341929799382054},\n",
       " 4: {'rmse': 0.348157863364355},\n",
       " 5: {'rmse': 0.3443996643813247},\n",
       " 6: {'rmse': 0.34905238454673737},\n",
       " 7: {'rmse': 0.340023314731451},\n",
       " 8: {'rmse': 0.34127013234812786},\n",
       " 9: {'rmse': 0.33794861201431936}}"
      ]
     },
     "execution_count": 33,
     "metadata": {},
     "output_type": "execute_result"
    }
   ],
   "source": [
    "# View 'seed_dict'\n",
    "seed_dict"
   ]
  },
  {
   "cell_type": "markdown",
   "id": "1bc19fa7",
   "metadata": {},
   "source": [
    "The `seed_dict` is a dictionary of multiple dictionaries, whereas, we are only interested in rmse score. We'll loop through the `seed_dict` and extract rmse values."
   ]
  },
  {
   "cell_type": "code",
   "execution_count": 34,
   "id": "2e8a94e3",
   "metadata": {},
   "outputs": [
    {
     "data": {
      "text/plain": [
       "[0.33884304805314536,\n",
       " 0.3390390788700666,\n",
       " 0.34923218040151777,\n",
       " 0.341929799382054,\n",
       " 0.348157863364355,\n",
       " 0.3443996643813247,\n",
       " 0.34905238454673737,\n",
       " 0.340023314731451,\n",
       " 0.34127013234812786,\n",
       " 0.33794861201431936]"
      ]
     },
     "execution_count": 34,
     "metadata": {},
     "output_type": "execute_result"
    }
   ],
   "source": [
    "# Extract rmse score from 'seed_dict' and\n",
    "# store into the list 'rmse_list'\n",
    "rmse_list = []\n",
    "for v in seed_dict.values():\n",
    "    for score in v.values():\n",
    "        rmse_list.append(score)\n",
    "\n",
    "rmse_list"
   ]
  },
  {
   "cell_type": "markdown",
   "id": "95e52751",
   "metadata": {},
   "source": [
    "We have the list of rmse score. Next, we'll find the standard deviation of `rmse_list` to see how close or far these values are:"
   ]
  },
  {
   "cell_type": "code",
   "execution_count": 35,
   "id": "500bc247",
   "metadata": {},
   "outputs": [
    {
     "name": "stdout",
     "output_type": "stream",
     "text": [
      "Standard deviation of RMSE: 0.004\n"
     ]
    }
   ],
   "source": [
    "# Calculate standard deviation\n",
    "print(f'Standard deviation of RMSE: {round(np.std(rmse_list), 3)}')"
   ]
  },
  {
   "cell_type": "markdown",
   "id": "29f032f9",
   "metadata": {},
   "source": [
    "The stardard deviation of the validation rmse is `0.004`. Although this value doesn't match with our given options, we'll choose the best closest option, that is: `0.005`."
   ]
  },
  {
   "cell_type": "markdown",
   "id": "9d22b10c",
   "metadata": {},
   "source": [
    "## Question 6\n",
    "\n",
    "- Split the dataset like previously, use seed 9\n",
    "- Combine train and validation datasets\n",
    "- Fill the missing values with 0 and train a model with `r=0.001`\n",
    "- What's the RMSE on the test dataset?\n",
    "\n",
    "Options:\n",
    "\n",
    "- 0.35\n",
    "- 0.135\n",
    "- 0.450\n",
    "- 0.245\n",
    "\n",
    "We'll implement steps that we have done before but we're making sure of two things:\n",
    "- To use the random seed 9 for splitting the data\n",
    "- To combine train and validation data for model training"
   ]
  },
  {
   "cell_type": "code",
   "execution_count": 36,
   "id": "8826260c",
   "metadata": {},
   "outputs": [],
   "source": [
    "# Set the ratio of train/val/test datasets\n",
    "n = df.shape[0]\n",
    "\n",
    "val_ratio = int(n * 0.2)\n",
    "test_ratio = int(n * 0.2)\n",
    "train_ratio = n - val_ratio - test_ratio"
   ]
  },
  {
   "cell_type": "code",
   "execution_count": 37,
   "id": "dbb9fe24",
   "metadata": {},
   "outputs": [],
   "source": [
    "# Set the random seed 9\n",
    "np.random.seed(9)\n",
    "\n",
    "# Create an array 'idx' that has equal num of rows as in 'df'\n",
    "idx = np.arange(df.shape[0])\n",
    "\n",
    "# Shuffle the index\n",
    "np.random.shuffle(idx)"
   ]
  },
  {
   "cell_type": "code",
   "execution_count": 38,
   "id": "1fddd553",
   "metadata": {},
   "outputs": [],
   "source": [
    "# Split and shuffle the data into train/val/test sets\n",
    "df_train = df.iloc[idx[:train_ratio]]\n",
    "df_val = df.iloc[idx[train_ratio:train_ratio+val_ratio]]\n",
    "df_test = df.iloc[idx[train_ratio+val_ratio:]]\n",
    "\n",
    "# Reset the indexes of train/val/test sets\n",
    "df_train = df_train.reset_index(drop=True)\n",
    "df_val = df_val.reset_index(drop=True)\n",
    "df_test = df_test.reset_index(drop=True)"
   ]
  },
  {
   "cell_type": "code",
   "execution_count": 39,
   "id": "d6170b55",
   "metadata": {},
   "outputs": [],
   "source": [
    "# Create target variable 'y' for train/val/test\n",
    "y_train = df_train['median_house_value'].values\n",
    "y_val = df_val['median_house_value'].values\n",
    "y_test = df_test['median_house_value'].values\n",
    "\n",
    "# Apply log transformation to 'median_house_value'\n",
    "y_train = np.log1p(y_train)\n",
    "y_val = np.log1p(y_val)\n",
    "y_test = np.log1p(y_test)"
   ]
  },
  {
   "cell_type": "code",
   "execution_count": 40,
   "id": "e1c41ffc",
   "metadata": {},
   "outputs": [],
   "source": [
    "# Drop the target columns from features\n",
    "df_train.drop(columns='median_house_value', axis=1, inplace=True)\n",
    "df_val.drop(columns='median_house_value', axis=1, inplace=True)\n",
    "df_test.drop(columns='median_house_value', axis=1, inplace=True)"
   ]
  },
  {
   "cell_type": "code",
   "execution_count": 41,
   "id": "3502e2a5",
   "metadata": {},
   "outputs": [
    {
     "data": {
      "text/html": [
       "<div>\n",
       "<style scoped>\n",
       "    .dataframe tbody tr th:only-of-type {\n",
       "        vertical-align: middle;\n",
       "    }\n",
       "\n",
       "    .dataframe tbody tr th {\n",
       "        vertical-align: top;\n",
       "    }\n",
       "\n",
       "    .dataframe thead th {\n",
       "        text-align: right;\n",
       "    }\n",
       "</style>\n",
       "<table border=\"1\" class=\"dataframe\">\n",
       "  <thead>\n",
       "    <tr style=\"text-align: right;\">\n",
       "      <th></th>\n",
       "      <th>longitude</th>\n",
       "      <th>latitude</th>\n",
       "      <th>housing_median_age</th>\n",
       "      <th>total_rooms</th>\n",
       "      <th>total_bedrooms</th>\n",
       "      <th>population</th>\n",
       "      <th>households</th>\n",
       "      <th>median_income</th>\n",
       "    </tr>\n",
       "  </thead>\n",
       "  <tbody>\n",
       "    <tr>\n",
       "      <th>0</th>\n",
       "      <td>-121.80</td>\n",
       "      <td>38.67</td>\n",
       "      <td>10.0</td>\n",
       "      <td>2086.0</td>\n",
       "      <td>380.0</td>\n",
       "      <td>1073.0</td>\n",
       "      <td>378.0</td>\n",
       "      <td>4.5526</td>\n",
       "    </tr>\n",
       "    <tr>\n",
       "      <th>1</th>\n",
       "      <td>-117.97</td>\n",
       "      <td>33.66</td>\n",
       "      <td>22.0</td>\n",
       "      <td>3914.0</td>\n",
       "      <td>600.0</td>\n",
       "      <td>1871.0</td>\n",
       "      <td>607.0</td>\n",
       "      <td>5.8541</td>\n",
       "    </tr>\n",
       "    <tr>\n",
       "      <th>2</th>\n",
       "      <td>-124.25</td>\n",
       "      <td>40.28</td>\n",
       "      <td>32.0</td>\n",
       "      <td>1430.0</td>\n",
       "      <td>419.0</td>\n",
       "      <td>434.0</td>\n",
       "      <td>187.0</td>\n",
       "      <td>1.9417</td>\n",
       "    </tr>\n",
       "    <tr>\n",
       "      <th>3</th>\n",
       "      <td>-117.11</td>\n",
       "      <td>32.69</td>\n",
       "      <td>37.0</td>\n",
       "      <td>2395.0</td>\n",
       "      <td>627.0</td>\n",
       "      <td>2489.0</td>\n",
       "      <td>599.0</td>\n",
       "      <td>1.5933</td>\n",
       "    </tr>\n",
       "    <tr>\n",
       "      <th>4</th>\n",
       "      <td>-118.37</td>\n",
       "      <td>34.21</td>\n",
       "      <td>36.0</td>\n",
       "      <td>1392.0</td>\n",
       "      <td>326.0</td>\n",
       "      <td>1181.0</td>\n",
       "      <td>303.0</td>\n",
       "      <td>3.1563</td>\n",
       "    </tr>\n",
       "    <tr>\n",
       "      <th>...</th>\n",
       "      <td>...</td>\n",
       "      <td>...</td>\n",
       "      <td>...</td>\n",
       "      <td>...</td>\n",
       "      <td>...</td>\n",
       "      <td>...</td>\n",
       "      <td>...</td>\n",
       "      <td>...</td>\n",
       "    </tr>\n",
       "    <tr>\n",
       "      <th>16507</th>\n",
       "      <td>-122.30</td>\n",
       "      <td>38.31</td>\n",
       "      <td>34.0</td>\n",
       "      <td>1797.0</td>\n",
       "      <td>395.0</td>\n",
       "      <td>1162.0</td>\n",
       "      <td>407.0</td>\n",
       "      <td>3.4550</td>\n",
       "    </tr>\n",
       "    <tr>\n",
       "      <th>16508</th>\n",
       "      <td>-118.54</td>\n",
       "      <td>34.27</td>\n",
       "      <td>28.0</td>\n",
       "      <td>2309.0</td>\n",
       "      <td>300.0</td>\n",
       "      <td>931.0</td>\n",
       "      <td>302.0</td>\n",
       "      <td>6.7415</td>\n",
       "    </tr>\n",
       "    <tr>\n",
       "      <th>16509</th>\n",
       "      <td>-118.13</td>\n",
       "      <td>33.93</td>\n",
       "      <td>34.0</td>\n",
       "      <td>2122.0</td>\n",
       "      <td>517.0</td>\n",
       "      <td>1578.0</td>\n",
       "      <td>488.0</td>\n",
       "      <td>3.1496</td>\n",
       "    </tr>\n",
       "    <tr>\n",
       "      <th>16510</th>\n",
       "      <td>-118.37</td>\n",
       "      <td>34.11</td>\n",
       "      <td>42.0</td>\n",
       "      <td>5518.0</td>\n",
       "      <td>979.0</td>\n",
       "      <td>1863.0</td>\n",
       "      <td>957.0</td>\n",
       "      <td>8.5842</td>\n",
       "    </tr>\n",
       "    <tr>\n",
       "      <th>16511</th>\n",
       "      <td>-118.37</td>\n",
       "      <td>34.08</td>\n",
       "      <td>52.0</td>\n",
       "      <td>1234.0</td>\n",
       "      <td>223.0</td>\n",
       "      <td>543.0</td>\n",
       "      <td>213.0</td>\n",
       "      <td>6.0338</td>\n",
       "    </tr>\n",
       "  </tbody>\n",
       "</table>\n",
       "<p>16512 rows × 8 columns</p>\n",
       "</div>"
      ],
      "text/plain": [
       "       longitude  latitude  housing_median_age  total_rooms  total_bedrooms  \\\n",
       "0        -121.80     38.67                10.0       2086.0           380.0   \n",
       "1        -117.97     33.66                22.0       3914.0           600.0   \n",
       "2        -124.25     40.28                32.0       1430.0           419.0   \n",
       "3        -117.11     32.69                37.0       2395.0           627.0   \n",
       "4        -118.37     34.21                36.0       1392.0           326.0   \n",
       "...          ...       ...                 ...          ...             ...   \n",
       "16507    -122.30     38.31                34.0       1797.0           395.0   \n",
       "16508    -118.54     34.27                28.0       2309.0           300.0   \n",
       "16509    -118.13     33.93                34.0       2122.0           517.0   \n",
       "16510    -118.37     34.11                42.0       5518.0           979.0   \n",
       "16511    -118.37     34.08                52.0       1234.0           223.0   \n",
       "\n",
       "       population  households  median_income  \n",
       "0          1073.0       378.0         4.5526  \n",
       "1          1871.0       607.0         5.8541  \n",
       "2           434.0       187.0         1.9417  \n",
       "3          2489.0       599.0         1.5933  \n",
       "4          1181.0       303.0         3.1563  \n",
       "...           ...         ...            ...  \n",
       "16507      1162.0       407.0         3.4550  \n",
       "16508       931.0       302.0         6.7415  \n",
       "16509      1578.0       488.0         3.1496  \n",
       "16510      1863.0       957.0         8.5842  \n",
       "16511       543.0       213.0         6.0338  \n",
       "\n",
       "[16512 rows x 8 columns]"
      ]
     },
     "execution_count": 41,
     "metadata": {},
     "output_type": "execute_result"
    }
   ],
   "source": [
    "# Combine train and validation data\n",
    "df_full_train = pd.concat([df_train, df_val]).reset_index(drop=True)\n",
    "df_full_train"
   ]
  },
  {
   "cell_type": "code",
   "execution_count": 42,
   "id": "094b303a",
   "metadata": {},
   "outputs": [
    {
     "data": {
      "text/plain": [
       "longitude               0\n",
       "latitude                0\n",
       "housing_median_age      0\n",
       "total_rooms             0\n",
       "total_bedrooms        168\n",
       "population              0\n",
       "households              0\n",
       "median_income           0\n",
       "dtype: int64"
      ]
     },
     "execution_count": 42,
     "metadata": {},
     "output_type": "execute_result"
    }
   ],
   "source": [
    "# Check for missing values in 'df_full_train'\n",
    "df_full_train.isnull().sum()"
   ]
  },
  {
   "cell_type": "code",
   "execution_count": 43,
   "id": "a7e7a4a5",
   "metadata": {},
   "outputs": [
    {
     "data": {
      "text/plain": [
       "longitude              0\n",
       "latitude               0\n",
       "housing_median_age     0\n",
       "total_rooms            0\n",
       "total_bedrooms        39\n",
       "population             0\n",
       "households             0\n",
       "median_income          0\n",
       "dtype: int64"
      ]
     },
     "execution_count": 43,
     "metadata": {},
     "output_type": "execute_result"
    }
   ],
   "source": [
    "# Check for missing values in 'df_test'\n",
    "df_test.isnull().sum()"
   ]
  },
  {
   "cell_type": "code",
   "execution_count": 44,
   "id": "e0d58503",
   "metadata": {},
   "outputs": [],
   "source": [
    "# Prepare train and test data, also fill missing values with 0\n",
    "X_full_train = prepare_X(df_full_train, fillna_value=0)\n",
    "X_test = prepare_X(df_test, fillna_value=0)"
   ]
  },
  {
   "cell_type": "code",
   "execution_count": 45,
   "id": "e163c809",
   "metadata": {},
   "outputs": [],
   "source": [
    "# Combine target vectors 'y_train' and 'y_val'\n",
    "y_full_train = np.concatenate([y_train, y_val])"
   ]
  },
  {
   "cell_type": "code",
   "execution_count": 46,
   "id": "a4e359f2",
   "metadata": {},
   "outputs": [
    {
     "name": "stdout",
     "output_type": "stream",
     "text": [
      "Model rmse on test data: 0.35\n"
     ]
    }
   ],
   "source": [
    "# Train the model with regularization (r=0.001)\n",
    "w0, w = train_linear_regression_reg(X_full_train, y_full_train, r=0.001)\n",
    "\n",
    "# Make predictions on test data\n",
    "y_pred = w0 + X_test.dot(w)\n",
    "\n",
    "# Evaluate model on 'y_test'\n",
    "score = rmse(y_test, y_pred)\n",
    "print(f'Model rmse on test data: {round(score, 2)}')"
   ]
  }
 ],
 "metadata": {
  "kernelspec": {
   "display_name": "Python 3 (ipykernel)",
   "language": "python",
   "name": "python3"
  },
  "language_info": {
   "codemirror_mode": {
    "name": "ipython",
    "version": 3
   },
   "file_extension": ".py",
   "mimetype": "text/x-python",
   "name": "python",
   "nbconvert_exporter": "python",
   "pygments_lexer": "ipython3",
   "version": "3.9.13"
  }
 },
 "nbformat": 4,
 "nbformat_minor": 5
}
