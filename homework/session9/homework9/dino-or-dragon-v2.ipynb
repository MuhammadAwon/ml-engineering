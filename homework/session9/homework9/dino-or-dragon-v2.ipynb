{
 "cells": [
  {
   "cell_type": "markdown",
   "metadata": {},
   "source": [
    "# Dino or Dragon Version-2\n",
    "\n",
    "In the notebook, we'll deploy the dino or dragon model we trained in the session 8.\n",
    "\n",
    "Download the model from here:\n",
    "\n",
    "https://github.com/SVizor42/ML_Zoomcamp/releases/download/dino-dragon-model/dino_dragon_10_0.899.h5\n",
    "\n",
    "## Question 1\n",
    "\n",
    "Now convert this model from Keras to TF-Lite format.\n",
    "\n",
    "What's the size of the **converted** model?\n",
    "\n",
    "- 21 Mb\n",
    "- 43 Mb\n",
    "- 80 Mb\n",
    "- 164 Mb"
   ]
  },
  {
   "cell_type": "code",
   "execution_count": 1,
   "metadata": {
    "execution": {
     "iopub.execute_input": "2022-11-22T10:45:31.067256Z",
     "iopub.status.busy": "2022-11-22T10:45:31.066486Z",
     "iopub.status.idle": "2022-11-22T10:45:32.790338Z",
     "shell.execute_reply": "2022-11-22T10:45:32.789233Z",
     "shell.execute_reply.started": "2022-11-22T10:45:31.067163Z"
    }
   },
   "outputs": [],
   "source": [
    "# Import libraries\n",
    "import numpy as np\n",
    "import tensorflow as tf\n",
    "import tensorflow.lite as tflite\n",
    "from tensorflow import keras"
   ]
  },
  {
   "cell_type": "code",
   "execution_count": 2,
   "metadata": {
    "execution": {
     "iopub.execute_input": "2022-11-22T10:45:32.792526Z",
     "iopub.status.busy": "2022-11-22T10:45:32.791841Z",
     "iopub.status.idle": "2022-11-22T10:45:36.246589Z",
     "shell.execute_reply": "2022-11-22T10:45:36.245430Z",
     "shell.execute_reply.started": "2022-11-22T10:45:32.792493Z"
    }
   },
   "outputs": [],
   "source": [
    "# Load keras model\n",
    "model = keras.models.load_model('dino_dragon_10_0.899.h5')"
   ]
  },
  {
   "cell_type": "code",
   "execution_count": 3,
   "metadata": {
    "execution": {
     "iopub.execute_input": "2022-11-22T10:45:36.248785Z",
     "iopub.status.busy": "2022-11-22T10:45:36.248371Z",
     "iopub.status.idle": "2022-11-22T10:45:39.746675Z",
     "shell.execute_reply": "2022-11-22T10:45:39.745397Z",
     "shell.execute_reply.started": "2022-11-22T10:45:36.248746Z"
    }
   },
   "outputs": [
    {
     "name": "stderr",
     "output_type": "stream",
     "text": [
      "WARNING:absl:Found untraced functions such as _jit_compiled_convolution_op while saving (showing 1 of 1). These functions will not be directly callable after loading.\n"
     ]
    },
    {
     "name": "stdout",
     "output_type": "stream",
     "text": [
      "INFO:tensorflow:Assets written to: C:\\Users\\awon\\AppData\\Local\\Temp\\tmphdipzwem\\assets\n"
     ]
    },
    {
     "name": "stderr",
     "output_type": "stream",
     "text": [
      "INFO:tensorflow:Assets written to: C:\\Users\\awon\\AppData\\Local\\Temp\\tmphdipzwem\\assets\n"
     ]
    }
   ],
   "source": [
    "# Initialize tflite converter from keras model\n",
    "converter = tf.lite.TFLiteConverter.from_keras_model(model)\n",
    "\n",
    "# Make conversion to tflite model\n",
    "tflite_model = converter.convert()\n",
    "\n",
    "# Save the model in tflite format\n",
    "with open('dino-dragon-model.tflite', 'wb') as f:\n",
    "    f.write(tflite_model)"
   ]
  },
  {
   "cell_type": "code",
   "execution_count": 4,
   "metadata": {
    "execution": {
     "iopub.execute_input": "2022-11-22T10:45:39.750569Z",
     "iopub.status.busy": "2022-11-22T10:45:39.750180Z",
     "iopub.status.idle": "2022-11-22T10:45:40.774153Z",
     "shell.execute_reply": "2022-11-22T10:45:40.772986Z",
     "shell.execute_reply.started": "2022-11-22T10:45:39.750536Z"
    }
   },
   "outputs": [
    {
     "name": "stdout",
     "output_type": "stream",
     "text": [
      "total 129M\n",
      "drwxr-xr-x 1 awon 197121    0 Nov 22 19:05 __pycache__\n",
      "-rw-r--r-- 1 awon 197121  43M Nov 22 20:54 dino-dragon-model.tflite\n",
      "-rw-r--r-- 1 awon 197121  83K Nov 22 20:54 dino-or-dragon-v2.ipynb\n",
      "-rw-r--r-- 1 awon 197121  86M Nov 22 13:45 dino_dragon_10_0.899.h5\n",
      "-rw-r--r-- 1 awon 197121 2.1K Nov 22 19:05 lambda_function.py\n",
      "-rw-r--r-- 1 awon 197121  292 Nov 22 17:36 test.py\n"
     ]
    }
   ],
   "source": [
    "# Check the saved model and its size\n",
    "!ls -lh"
   ]
  },
  {
   "cell_type": "markdown",
   "metadata": {},
   "source": [
    "## Question 2\n",
    "\n",
    "To be able to use this model, we need to know the index of the input and the index of the output.\n",
    "\n",
    "What's the output index for this model?\n",
    "\n",
    "- 3\n",
    "- 7\n",
    "- 13\n",
    "- 24"
   ]
  },
  {
   "cell_type": "code",
   "execution_count": 5,
   "metadata": {
    "execution": {
     "iopub.execute_input": "2022-11-22T10:45:40.776944Z",
     "iopub.status.busy": "2022-11-22T10:45:40.776130Z",
     "iopub.status.idle": "2022-11-22T10:45:40.783475Z",
     "shell.execute_reply": "2022-11-22T10:45:40.782449Z",
     "shell.execute_reply.started": "2022-11-22T10:45:40.776897Z"
    }
   },
   "outputs": [],
   "source": [
    "# Instantiate model using interpreter class\n",
    "interpreter = tflite.Interpreter(model_path='dino-dragon-model.tflite')\n",
    "\n",
    "# Load the weights from the model to memory\n",
    "interpreter.allocate_tensors()\n"
   ]
  },
  {
   "cell_type": "code",
   "execution_count": 6,
   "metadata": {
    "execution": {
     "iopub.execute_input": "2022-11-22T10:45:40.785653Z",
     "iopub.status.busy": "2022-11-22T10:45:40.785028Z",
     "iopub.status.idle": "2022-11-22T10:45:40.800976Z",
     "shell.execute_reply": "2022-11-22T10:45:40.799849Z",
     "shell.execute_reply.started": "2022-11-22T10:45:40.785617Z"
    }
   },
   "outputs": [
    {
     "data": {
      "text/plain": [
       "13"
      ]
     },
     "execution_count": 6,
     "metadata": {},
     "output_type": "execute_result"
    }
   ],
   "source": [
    "# Get the input and output index from the interpreter\n",
    "input_index = interpreter.get_input_details()[0]['index']\n",
    "output_index = interpreter.get_output_details()[0]['index']\n",
    "\n",
    "# Output index\n",
    "output_index"
   ]
  },
  {
   "cell_type": "markdown",
   "metadata": {},
   "source": [
    "## Preparing the Image\n",
    "\n",
    "We'll need some code for downloading and resizing images. We can use the following code:"
   ]
  },
  {
   "cell_type": "code",
   "execution_count": 7,
   "metadata": {
    "execution": {
     "iopub.execute_input": "2022-11-22T10:45:40.803127Z",
     "iopub.status.busy": "2022-11-22T10:45:40.802604Z",
     "iopub.status.idle": "2022-11-22T10:45:40.811926Z",
     "shell.execute_reply": "2022-11-22T10:45:40.810529Z",
     "shell.execute_reply.started": "2022-11-22T10:45:40.803093Z"
    }
   },
   "outputs": [],
   "source": [
    "from io import BytesIO\n",
    "from urllib import request\n",
    "from PIL import Image\n",
    "from PIL.Image import Resampling\n",
    "\n",
    "def download_image(url):\n",
    "    with request.urlopen(url) as resp:\n",
    "        buffer = resp.read()\n",
    "    stream = BytesIO(buffer)\n",
    "    img = Image.open(stream)\n",
    "    return img\n",
    "\n",
    "\n",
    "def prepare_image(img, target_size):\n",
    "    if img.mode != 'RGB':\n",
    "        img = img.convert('RGB')\n",
    "    img = img.resize(target_size, resample=Resampling.NEAREST)\n",
    "    return img\n",
    "\n",
    "\n",
    "# Function to rescale image input\n",
    "def rescale_img(x):\n",
    "    return x / 255.0"
   ]
  },
  {
   "cell_type": "markdown",
   "metadata": {},
   "source": [
    "To make the above function to work, we'll need to have `pillow` installed `pip install pillow` (if already not installed).\n",
    "\n",
    "Let's download and resize this image:\n",
    "\n",
    "https://upload.wikimedia.org/wikipedia/commons/thumb/d/df/Smaug_par_David_Demaret.jpg/1280px-Smaug_par_David_Demaret.jpg\n",
    "\n",
    "We'll set the target size for the image as we did in the session 8 (i.e, 150 x 150).\n",
    "\n",
    "## Question 3\n",
    "\n",
    "Now we need to turn the image into numpy array and preprocess it.\n",
    "\n",
    "After the preprocessing, what's the value in the first pixel, the R channel?\n",
    "\n",
    "- 0.3353411\n",
    "- 0.5529412\n",
    "- 0.7458824\n",
    "- 0.9654902"
   ]
  },
  {
   "cell_type": "code",
   "execution_count": 8,
   "metadata": {
    "execution": {
     "iopub.execute_input": "2022-11-22T10:45:40.814076Z",
     "iopub.status.busy": "2022-11-22T10:45:40.813586Z",
     "iopub.status.idle": "2022-11-22T10:45:41.114999Z",
     "shell.execute_reply": "2022-11-22T10:45:41.114035Z",
     "shell.execute_reply.started": "2022-11-22T10:45:40.814041Z"
    }
   },
   "outputs": [
    {
     "data": {
      "image/png": "[encoded data removed]",
      "text/plain": [
       "<PIL.Image.Image image mode=RGB size=150x150>"
      ]
     },
     "execution_count": 8,
     "metadata": {},
     "output_type": "execute_result"
    }
   ],
   "source": [
    "# Load image from url\n",
    "img = download_image('https://upload.wikimedia.org/wikipedia/commons/thumb/d/df/Smaug_par_David_Demaret.jpg/1280px-Smaug_par_David_Demaret.jpg')\n",
    "\n",
    "# Prepare image by sizing it to (150, 150)\n",
    "img = prepare_image(img=img, target_size=(150, 150))\n",
    "img"
   ]
  },
  {
   "cell_type": "code",
   "execution_count": 9,
   "metadata": {
    "execution": {
     "iopub.execute_input": "2022-11-22T10:45:41.116297Z",
     "iopub.status.busy": "2022-11-22T10:45:41.115970Z",
     "iopub.status.idle": "2022-11-22T10:45:41.123139Z",
     "shell.execute_reply": "2022-11-22T10:45:41.121870Z",
     "shell.execute_reply.started": "2022-11-22T10:45:41.116266Z"
    }
   },
   "outputs": [],
   "source": [
    "# Convert the image into numpy array\n",
    "x = np.array(img, dtype='float32')\n",
    "# Add batch dimension into image array\n",
    "X = np.array([x])\n",
    "\n",
    "# Rescale image\n",
    "X = rescale_img(X)"
   ]
  },
  {
   "cell_type": "code",
   "execution_count": 10,
   "metadata": {
    "execution": {
     "iopub.execute_input": "2022-11-22T10:45:41.125534Z",
     "iopub.status.busy": "2022-11-22T10:45:41.124821Z",
     "iopub.status.idle": "2022-11-22T10:45:41.136795Z",
     "shell.execute_reply": "2022-11-22T10:45:41.135727Z",
     "shell.execute_reply.started": "2022-11-22T10:45:41.125492Z"
    }
   },
   "outputs": [
    {
     "data": {
      "text/plain": [
       "0.5529412"
      ]
     },
     "execution_count": 10,
     "metadata": {},
     "output_type": "execute_result"
    }
   ],
   "source": [
    "# R value in the first pixel in color channel\n",
    "X[0, 0, 0, 0]"
   ]
  },
  {
   "cell_type": "markdown",
   "metadata": {},
   "source": [
    "## Question 4\n",
    "\n",
    "Now let's apply this model to this image. What's the output of the model?\n",
    "\n",
    "- 0.17049132\n",
    "- 0.39009996\n",
    "- 0.60146114\n",
    "- 0.82448614"
   ]
  },
  {
   "cell_type": "code",
   "execution_count": 11,
   "metadata": {
    "execution": {
     "iopub.execute_input": "2022-11-22T10:48:44.566614Z",
     "iopub.status.busy": "2022-11-22T10:48:44.565907Z",
     "iopub.status.idle": "2022-11-22T10:48:44.583862Z",
     "shell.execute_reply": "2022-11-22T10:48:44.582629Z",
     "shell.execute_reply.started": "2022-11-22T10:48:44.566579Z"
    }
   },
   "outputs": [
    {
     "data": {
      "text/plain": [
       "0.8244853"
      ]
     },
     "execution_count": 11,
     "metadata": {},
     "output_type": "execute_result"
    }
   ],
   "source": [
    "# Make image prediction using tflite model\n",
    "interpreter.set_tensor(input_index, X)\n",
    "interpreter.invoke()\n",
    "pred = interpreter.get_tensor(output_index)[0][0]\n",
    "pred"
   ]
  },
  {
   "cell_type": "markdown",
   "metadata": {},
   "source": [
    "### Prepare the Lambda Code\n",
    "\n",
    "Now we need to copy all of the code into separate python file. We will need to use this file for the next two questions.\n",
    "\n",
    "Tip: We can test this file locally with `ipython` or Jupyter Notebook by importing the file and invoking the function from this file.\n",
    "\n",
    "### Docker\n",
    "\n",
    "For the next two questions, we'll use a Docker image that we already prepared. This is the Dockerfile that we used for creating the image:\n",
    "\n",
    "```dockerfile\n",
    "FROM public.ecr.aws/lambda/python:3.9\n",
    "COPY dino-vs-dragon-v2.tflite .\n",
    "```\n",
    "\n",
    "And pushed it to [svizor42/zoomcamp-dino-dragon-lambda:v2](https://hub.docker.com/r/svizor42/zoomcamp-dino-dragon-lambda/tags).\n",
    "\n",
    "> Note: The image already contains a model and it's not the same model as the one we used for questions 1-4.\n",
    "\n",
    "\n",
    "## Question 5\n",
    "\n",
    "Download the base image `svizor42/zoomcamp-dino-dragon-lambda:v2`. We can easily make it by using [docker pull](https://docs.docker.com/engine/reference/commandline/pull/) command.\n",
    "\n",
    "So what's the size of this base image?\n",
    "\n",
    "- 139 Mb\n",
    "- 329 Mb\n",
    "- 639 Mb\n",
    "- 929 Mb\n",
    "\n",
    "We can get this information when running `docker images` - it'll be in the \"SIZE\" column.\n",
    "\n",
    "## Question 6\n",
    "\n",
    "Now let's extend this docker image, install all the required libraries and add the code for lambda.\n",
    "\n",
    "We don't need to include the model in the image. It's already included. The name of the file with the model is `dino-vs-dragon-v2.tflite` and it's in the current workdir in the image (see the Dockerfile above for the reference).\n",
    "\n",
    "Now run the container locally.\n",
    "\n",
    "Score this image:\n",
    "https://upload.wikimedia.org/wikipedia/en/e/e9/GodzillaEncounterModel.jpg\n",
    "\n",
    "What's the output from the model?\n",
    "\n",
    "- 0.12\n",
    "- 0.32\n",
    "- 0.52\n",
    "- 0.72\n",
    "\n",
    "### Publishing it to AWS\n",
    "\n",
    "Now we can deploy our model to AWS!\n",
    "\n",
    "- Publish our image to ECR\n",
    "- Create a lambda function in AWS, use the ECR image\n",
    "- Give it more RAM and increase the timeout\n",
    "- Test it\n",
    "- Expose the lambda function using API Gateway\n",
    "\n",
    "This is optional and not graded.\n",
    "\n",
    "### Publishing to Docker Hub\n",
    "\n",
    "This is just for reference, this is how we published our image to Docker hub:\n",
    "\n",
    "```bash\n",
    "docker build -t zoomcamp-dino-dragon-lambda .\n",
    "docker tag zoomcamp-dino-dragon-lambda:latest svizor42/zoomcamp-dino-dragon-lambda:v2\n",
    "docker push svizor42/zoomcamp-dino-dragon-lambda:v2\n",
    "```\n",
    "\n"
   ]
  }
 ],
 "metadata": {
  "kernelspec": {
   "display_name": "Python 3.9.13",
   "language": "python",
   "name": "python3"
  },
  "language_info": {
   "codemirror_mode": {
    "name": "ipython",
    "version": 3
   },
   "file_extension": ".py",
   "mimetype": "text/x-python",
   "name": "python",
   "nbconvert_exporter": "python",
   "pygments_lexer": "ipython3",
   "version": "3.9.13"
  },
  "vscode": {
   "interpreter": {
    "hash": "24626c60c8bcb9282eedee9d4aca407667873a1d5ae390b91d37266f7cb75b8b"
   }
  }
 },
 "nbformat": 4,
 "nbformat_minor": 4
}
