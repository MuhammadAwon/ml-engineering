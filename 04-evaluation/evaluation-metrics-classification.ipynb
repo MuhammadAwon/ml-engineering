{
 "cells": [
  {
   "cell_type": "code",
   "execution_count": 1,
   "id": "da81b72a",
   "metadata": {},
   "outputs": [
    {
     "data": {
      "application/javascript": [
       "IPython.notebook.set_autosave_interval(0)"
      ]
     },
     "metadata": {},
     "output_type": "display_data"
    },
    {
     "name": "stdout",
     "output_type": "stream",
     "text": [
      "Autosave disabled\n"
     ]
    }
   ],
   "source": [
    "%autosave 0"
   ]
  },
  {
   "cell_type": "markdown",
   "id": "8ead2cd2",
   "metadata": {},
   "source": [
    "# 4. Evaluation Metrics For Classification\n",
    "\n",
    "In the previous session we trained a model for predicting churn. How do we know if it's good?\n",
    "\n",
    "## 4.1 Evaluation metrics: Session Overview\n",
    "\n",
    "- Dataset: https://www.kaggle.com/blastchar/telco-customer-churn\n",
    "- https://raw.githubusercontent.com/alexeygrigorev/mlbookcamp-code/master/chapter-03-churn-prediction/WA_Fn-UseC_-Telco-Customer-Churn.csv\n",
    "\n",
    "**Metric - function that compares the predictions with the actual values and outputs a single number that tells how good the predictions are*"
   ]
  },
  {
   "cell_type": "code",
   "execution_count": 2,
   "id": "733c7de2",
   "metadata": {},
   "outputs": [],
   "source": [
    "import numpy as np\n",
    "import pandas as pd\n",
    "import matplotlib.pyplot as plt\n",
    "\n",
    "from sklearn.model_selection import train_test_split\n",
    "from sklearn.feature_extraction import DictVectorizer\n",
    "from sklearn.linear_model import LogisticRegression\n",
    "\n",
    "%matplotlib inline"
   ]
  },
  {
   "cell_type": "markdown",
   "id": "7da84f61",
   "metadata": {},
   "source": [
    "Following steps we have already implemented and understood in the session 3:"
   ]
  },
  {
   "cell_type": "code",
   "execution_count": 3,
   "id": "a682d60d",
   "metadata": {},
   "outputs": [],
   "source": [
    "# Load data\n",
    "df = pd.read_csv('../03-classification/churn-data.csv')\n",
    "\n",
    "# Clean column names\n",
    "df.columns = df.columns.str.lower().str.replace(' ', '_')\n",
    "\n",
    "# Extract categorical column names from df\n",
    "categorical_columns = df.select_dtypes('object').columns.tolist()\n",
    "\n",
    "# Clean values in the categorical_columns\n",
    "for col in categorical_columns:\n",
    "    df[col] = df[col].str.lower().str.replace(' ', '_')\n",
    "    \n",
    "# Convert column totalcharges to numeric\n",
    "df.totalcharges = pd.to_numeric(df.totalcharges, errors='coerce')\n",
    "\n",
    "# Fill missing values of totalcharges with 0\n",
    "df.totalcharges = df.totalcharges.fillna(0)\n",
    "\n",
    "# Convert target variable churn from bool to binary integer\n",
    "df.churn = (df.churn == 'yes').astype(int)"
   ]
  },
  {
   "cell_type": "code",
   "execution_count": 4,
   "id": "96ee3d54",
   "metadata": {},
   "outputs": [],
   "source": [
    "# Split 80% train and 20% test sets\n",
    "df_full_train, df_test = train_test_split(df, test_size=0.2, random_state=1)\n",
    "\n",
    "# Split 60% train and 20% validation sets\n",
    "df_train, df_val = train_test_split(df_full_train, test_size=0.25, random_state=1)\n",
    "\n",
    "# Reset indexes\n",
    "df_train = df_train.reset_index(drop=True)\n",
    "df_val = df_val.reset_index(drop=True)\n",
    "df_test = df_test.reset_index(drop=True)\n",
    "\n",
    "# Create target variable for train/val/test\n",
    "y_train = df_train.churn.values\n",
    "y_val = df_val.churn.values\n",
    "y_test = df_test.churn.values\n",
    "\n",
    "# Delete target valriable churn from features\n",
    "del df_train['churn']\n",
    "del df_val['churn']\n",
    "del df_test['churn']"
   ]
  },
  {
   "cell_type": "code",
   "execution_count": 5,
   "id": "192e3d51",
   "metadata": {},
   "outputs": [],
   "source": [
    "# Create list of numeric and categorical columns (exclude customerid)\n",
    "# note: seniorcitizen column is categorical\n",
    "numerical = ['tenure', 'monthlycharges', 'totalcharges']\n",
    "\n",
    "categorical = ['gender', 'seniorcitizen', 'partner',\n",
    "               'dependents', 'phoneservice', 'multiplelines',\n",
    "               'internetservice', 'onlinesecurity', 'onlinebackup',\n",
    "               'deviceprotection', 'techsupport', 'streamingtv',\n",
    "               'streamingmovies', 'contract', 'paperlessbilling',\n",
    "               'paymentmethod']"
   ]
  },
  {
   "cell_type": "code",
   "execution_count": 6,
   "id": "3f2a686f",
   "metadata": {},
   "outputs": [
    {
     "data": {
      "text/html": [
       "<style>#sk-container-id-1 {color: black;background-color: white;}#sk-container-id-1 pre{padding: 0;}#sk-container-id-1 div.sk-toggleable {background-color: white;}#sk-container-id-1 label.sk-toggleable__label {cursor: pointer;display: block;width: 100%;margin-bottom: 0;padding: 0.3em;box-sizing: border-box;text-align: center;}#sk-container-id-1 label.sk-toggleable__label-arrow:before {content: \"▸\";float: left;margin-right: 0.25em;color: #696969;}#sk-container-id-1 label.sk-toggleable__label-arrow:hover:before {color: black;}#sk-container-id-1 div.sk-estimator:hover label.sk-toggleable__label-arrow:before {color: black;}#sk-container-id-1 div.sk-toggleable__content {max-height: 0;max-width: 0;overflow: hidden;text-align: left;background-color: #f0f8ff;}#sk-container-id-1 div.sk-toggleable__content pre {margin: 0.2em;color: black;border-radius: 0.25em;background-color: #f0f8ff;}#sk-container-id-1 input.sk-toggleable__control:checked~div.sk-toggleable__content {max-height: 200px;max-width: 100%;overflow: auto;}#sk-container-id-1 input.sk-toggleable__control:checked~label.sk-toggleable__label-arrow:before {content: \"▾\";}#sk-container-id-1 div.sk-estimator input.sk-toggleable__control:checked~label.sk-toggleable__label {background-color: #d4ebff;}#sk-container-id-1 div.sk-label input.sk-toggleable__control:checked~label.sk-toggleable__label {background-color: #d4ebff;}#sk-container-id-1 input.sk-hidden--visually {border: 0;clip: rect(1px 1px 1px 1px);clip: rect(1px, 1px, 1px, 1px);height: 1px;margin: -1px;overflow: hidden;padding: 0;position: absolute;width: 1px;}#sk-container-id-1 div.sk-estimator {font-family: monospace;background-color: #f0f8ff;border: 1px dotted black;border-radius: 0.25em;box-sizing: border-box;margin-bottom: 0.5em;}#sk-container-id-1 div.sk-estimator:hover {background-color: #d4ebff;}#sk-container-id-1 div.sk-parallel-item::after {content: \"\";width: 100%;border-bottom: 1px solid gray;flex-grow: 1;}#sk-container-id-1 div.sk-label:hover label.sk-toggleable__label {background-color: #d4ebff;}#sk-container-id-1 div.sk-serial::before {content: \"\";position: absolute;border-left: 1px solid gray;box-sizing: border-box;top: 0;bottom: 0;left: 50%;z-index: 0;}#sk-container-id-1 div.sk-serial {display: flex;flex-direction: column;align-items: center;background-color: white;padding-right: 0.2em;padding-left: 0.2em;position: relative;}#sk-container-id-1 div.sk-item {position: relative;z-index: 1;}#sk-container-id-1 div.sk-parallel {display: flex;align-items: stretch;justify-content: center;background-color: white;position: relative;}#sk-container-id-1 div.sk-item::before, #sk-container-id-1 div.sk-parallel-item::before {content: \"\";position: absolute;border-left: 1px solid gray;box-sizing: border-box;top: 0;bottom: 0;left: 50%;z-index: -1;}#sk-container-id-1 div.sk-parallel-item {display: flex;flex-direction: column;z-index: 1;position: relative;background-color: white;}#sk-container-id-1 div.sk-parallel-item:first-child::after {align-self: flex-end;width: 50%;}#sk-container-id-1 div.sk-parallel-item:last-child::after {align-self: flex-start;width: 50%;}#sk-container-id-1 div.sk-parallel-item:only-child::after {width: 0;}#sk-container-id-1 div.sk-dashed-wrapped {border: 1px dashed gray;margin: 0 0.4em 0.5em 0.4em;box-sizing: border-box;padding-bottom: 0.4em;background-color: white;}#sk-container-id-1 div.sk-label label {font-family: monospace;font-weight: bold;display: inline-block;line-height: 1.2em;}#sk-container-id-1 div.sk-label-container {text-align: center;}#sk-container-id-1 div.sk-container {/* jupyter's `normalize.less` sets `[hidden] { display: none; }` but bootstrap.min.css set `[hidden] { display: none !important; }` so we also need the `!important` here to be able to override the default hidden behavior on the sphinx rendered scikit-learn.org. See: https://github.com/scikit-learn/scikit-learn/issues/21755 */display: inline-block !important;position: relative;}#sk-container-id-1 div.sk-text-repr-fallback {display: none;}</style><div id=\"sk-container-id-1\" class=\"sk-top-container\"><div class=\"sk-text-repr-fallback\"><pre>LogisticRegression()</pre><b>In a Jupyter environment, please rerun this cell to show the HTML representation or trust the notebook. <br />On GitHub, the HTML representation is unable to render, please try loading this page with nbviewer.org.</b></div><div class=\"sk-container\" hidden><div class=\"sk-item\"><div class=\"sk-estimator sk-toggleable\"><input class=\"sk-toggleable__control sk-hidden--visually\" id=\"sk-estimator-id-1\" type=\"checkbox\" checked><label for=\"sk-estimator-id-1\" class=\"sk-toggleable__label sk-toggleable__label-arrow\">LogisticRegression</label><div class=\"sk-toggleable__content\"><pre>LogisticRegression()</pre></div></div></div></div></div>"
      ],
      "text/plain": [
       "LogisticRegression()"
      ]
     },
     "execution_count": 6,
     "metadata": {},
     "output_type": "execute_result"
    }
   ],
   "source": [
    "# Instantiate DictVectorizer(sparse=False)\n",
    "dv = DictVectorizer(sparse=False)\n",
    "\n",
    "# Convert df_train to dictionary\n",
    "train_dict = df_train[categorical + numerical].to_dict(orient='records')\n",
    "\n",
    "# Transform and fit train_dict using dv\n",
    "X_train = dv.fit_transform(train_dict)\n",
    "\n",
    "# Create model and fit the model to train\n",
    "model = LogisticRegression()\n",
    "model.fit(X_train, y_train)"
   ]
  },
  {
   "cell_type": "code",
   "execution_count": 7,
   "id": "4d95123d",
   "metadata": {},
   "outputs": [
    {
     "data": {
      "text/plain": [
       "0.8034066713981547"
      ]
     },
     "execution_count": 7,
     "metadata": {},
     "output_type": "execute_result"
    }
   ],
   "source": [
    "# Convert validation from dataframe to dictionary\n",
    "val_dict = df_val[categorical + numerical].to_dict(orient='records')\n",
    "\n",
    "# Transform data\n",
    "X_val = dv.transform(val_dict)\n",
    "\n",
    "# Make prediction\n",
    "y_pred = model.predict_proba(X_val)[:, 1]\n",
    "\n",
    "# Calculate model accuracy\n",
    "churn_decision = y_pred >= 0.5\n",
    "(y_val == churn_decision).mean()"
   ]
  },
  {
   "cell_type": "markdown",
   "id": "71b87744",
   "metadata": {},
   "source": [
    "## 4.2 Accuracy and Dummy Model\n",
    "\n",
    "- Evaluate the model on different thresholds\n",
    "- Check the accuracy of dummy baselines"
   ]
  },
  {
   "cell_type": "code",
   "execution_count": 8,
   "id": "7927824f",
   "metadata": {},
   "outputs": [
    {
     "data": {
      "text/plain": [
       "0.8034066713981547"
      ]
     },
     "execution_count": 8,
     "metadata": {},
     "output_type": "execute_result"
    }
   ],
   "source": [
    "# Calculate the accuracy of the model again\n",
    "(y_val == churn_decision).mean()"
   ]
  },
  {
   "cell_type": "markdown",
   "id": "8e403391",
   "metadata": {},
   "source": [
    "We can see the model accuracy is 80% when the threshold is `0.5`. Basically, the accuracy is measured by calculating the `correct predictions` divided by `total number of predictions`. Let's manually apply the accuracy below:"
   ]
  },
  {
   "cell_type": "code",
   "execution_count": 9,
   "id": "fe133992",
   "metadata": {},
   "outputs": [
    {
     "data": {
      "text/plain": [
       "0.8034066713981547"
      ]
     },
     "execution_count": 9,
     "metadata": {},
     "output_type": "execute_result"
    }
   ],
   "source": [
    "correct_preds = (y_val == churn_decision).sum()\n",
    "total_preds = len(churn_decision)\n",
    "\n",
    "correct_preds / total_preds"
   ]
  },
  {
   "cell_type": "markdown",
   "id": "4cf777ae",
   "metadata": {},
   "source": [
    "Indeed we get the same accuracy. We can also accuracy the accuracy using sklearn."
   ]
  },
  {
   "cell_type": "code",
   "execution_count": 10,
   "id": "c6bf07f5",
   "metadata": {},
   "outputs": [
    {
     "data": {
      "text/plain": [
       "0.8034066713981547"
      ]
     },
     "execution_count": 10,
     "metadata": {},
     "output_type": "execute_result"
    }
   ],
   "source": [
    "from sklearn.metrics import accuracy_score\n",
    "\n",
    "accuracy_score(y_val, churn_decision)"
   ]
  },
  {
   "cell_type": "markdown",
   "id": "0d722bc4",
   "metadata": {},
   "source": [
    "By default, logistic regression uses 0.5 threshold to optimize the results for accuracy. Let's see what happens when we calculate the accuracy on different thresholds, for that we'll create a dummy model for evaluation."
   ]
  },
  {
   "cell_type": "code",
   "execution_count": 11,
   "id": "f7810e5e",
   "metadata": {},
   "outputs": [
    {
     "name": "stdout",
     "output_type": "stream",
     "text": [
      "0.00 - 0.274\n",
      "0.05 - 0.509\n",
      "0.10 - 0.591\n",
      "0.15 - 0.666\n",
      "0.20 - 0.710\n",
      "0.25 - 0.739\n",
      "0.30 - 0.760\n",
      "0.35 - 0.772\n",
      "0.40 - 0.785\n",
      "0.45 - 0.793\n",
      "0.50 - 0.803\n",
      "0.55 - 0.801\n",
      "0.60 - 0.795\n",
      "0.65 - 0.786\n",
      "0.70 - 0.765\n",
      "0.75 - 0.744\n",
      "0.80 - 0.735\n",
      "0.85 - 0.726\n",
      "0.90 - 0.726\n",
      "0.95 - 0.726\n",
      "1.00 - 0.726\n"
     ]
    }
   ],
   "source": [
    "# Create an array of 21 different thresholds between 0 and 1 \n",
    "thresholds = np.linspace(0, 1, 21)\n",
    "\n",
    "# List to store accuracy\n",
    "scores = []\n",
    "for t in thresholds:\n",
    "    churn_decision = y_pred >= t\n",
    "    score = accuracy_score(y_val, churn_decision)\n",
    "    scores.append(score)\n",
    "    print(f'{t:.2f} - {score:.3f}')"
   ]
  },
  {
   "cell_type": "code",
   "execution_count": 12,
   "id": "5f9f7708",
   "metadata": {},
   "outputs": [
    {
     "data": {
      "image/png": "[encoded data removed]",
      "text/plain": [
       "<Figure size 640x480 with 1 Axes>"
      ]
     },
     "metadata": {},
     "output_type": "display_data"
    }
   ],
   "source": [
    "# Plot the thresholds and scores\n",
    "plt.plot(thresholds, scores)\n",
    "plt.xlabel('threshold')\n",
    "plt.ylabel('score')\n",
    "plt.show();"
   ]
  },
  {
   "cell_type": "markdown",
   "id": "a4a2bd51",
   "metadata": {},
   "source": [
    "As we can see the best accuracy is at threshold 0.5. But what this graph actually tells us? To answer that, let's look at the distribution of the prdictions when the threshold is 1.0."
   ]
  },
  {
   "cell_type": "code",
   "execution_count": 13,
   "id": "39ae208e",
   "metadata": {},
   "outputs": [
    {
     "data": {
      "text/plain": [
       "Counter({False: 1409})"
      ]
     },
     "execution_count": 13,
     "metadata": {},
     "output_type": "execute_result"
    }
   ],
   "source": [
    "from collections import Counter\n",
    "\n",
    "# Count customers distribution for churn and not churn on predictions\n",
    "Counter(y_pred >= 1.0)"
   ]
  },
  {
   "cell_type": "markdown",
   "id": "85e44200",
   "metadata": {},
   "source": [
    "Predictions at the threshold 1.0 tells us that no customer is going to churn (`1409 total number of customer`) but when we look at the actual values (y_val) the distribution is different."
   ]
  },
  {
   "cell_type": "code",
   "execution_count": 14,
   "id": "53dbf373",
   "metadata": {},
   "outputs": [
    {
     "data": {
      "text/plain": [
       "Counter({0: 1023, 1: 386})"
      ]
     },
     "execution_count": 14,
     "metadata": {},
     "output_type": "execute_result"
    }
   ],
   "source": [
    "# Count customers distribution for churn and not churn on validation\n",
    "Counter(y_val)"
   ]
  },
  {
   "cell_type": "markdown",
   "id": "fbc0de05",
   "metadata": {},
   "source": [
    "The actual values tell us that 1023 customers did not churn and 386 churned.\n",
    "\n",
    "So, the dummy model predicts at threshold 1.0 no customer will churn and it gives us the accuracy of approximately 73% accuracy, which makes the difference of only 7% compare to the original model (80%). Therefore, accuracy metric can't exactly tells us how good is our model and that's because our data has imbalance classes with the ratio of 3:1. \n",
    "\n",
    "These results will be misleading, hence, we need other metrics for model evaluation."
   ]
  },
  {
   "cell_type": "markdown",
   "id": "41169ac0",
   "metadata": {},
   "source": [
    "## 4.3 Confusion Table\n",
    "\n",
    "- Different types of errors and correct decisions\n",
    "- Arranging them in a table\n",
    "\n",
    "Confusion table tells us how many prediction our model has made correct and how many it has made incorrect. For binary classification classifier, there are possiblities that can happen in terms of predictions:\n",
    "\n",
    "- Churn (Positive class)\n",
    "    - Customer churned (TP)\n",
    "    - Customer did not churn (FP)\n",
    "- Not churn (Negative class)\n",
    "    - Customer churned (TN)\n",
    "    - Customer did not churn (FN)\n",
    "    \n",
    "Confusion table is helpful to analysis the quality of the model and how close it is making predictions to the acutal values. We can make the confusion table in numpy in the following way:"
   ]
  },
  {
   "cell_type": "code",
   "execution_count": 15,
   "id": "cf2a9a12",
   "metadata": {},
   "outputs": [],
   "source": [
    "# Create arrays to represent actual class labels\n",
    "actual_positive = y_val == 1\n",
    "actual_negative = y_val == 0"
   ]
  },
  {
   "cell_type": "code",
   "execution_count": 16,
   "id": "f61104e1",
   "metadata": {},
   "outputs": [],
   "source": [
    "# Create arrays to represent predicted class labels\n",
    "t = 0.5 # threshold\n",
    "predict_positive = y_pred >= t\n",
    "predict_negative = y_pred < t"
   ]
  },
  {
   "cell_type": "markdown",
   "id": "603c6827",
   "metadata": {},
   "source": [
    "Now we have the actual and predicted class labels, we can combine them to derive tp, tn, fp, and fn:"
   ]
  },
  {
   "cell_type": "code",
   "execution_count": 17,
   "id": "ff93c53d",
   "metadata": {},
   "outputs": [],
   "source": [
    "# Calculate number of true positive class labels\n",
    "tp = (predict_positive & actual_positive).sum()\n",
    "# Calculate number of true negative class labels\n",
    "tn = (predict_negative & actual_negative).sum()\n",
    "\n",
    "# Calculate number of false positive class labels\n",
    "fp = (predict_positive & actual_negative).sum()\n",
    "# Calculate number of false negative class labels\n",
    "fn = (predict_negative & actual_positive).sum()"
   ]
  },
  {
   "cell_type": "code",
   "execution_count": 18,
   "id": "2c4b5088",
   "metadata": {},
   "outputs": [
    {
     "data": {
      "text/plain": [
       "array([[922, 101],\n",
       "       [176, 210]])"
      ]
     },
     "execution_count": 18,
     "metadata": {},
     "output_type": "execute_result"
    }
   ],
   "source": [
    "# Create confusion matrix\n",
    "confusion_matrix = np.array([\n",
    "    [tn, fp],\n",
    "    [fn, tp]\n",
    "])\n",
    "\n",
    "confusion_matrix"
   ]
  },
  {
   "cell_type": "markdown",
   "id": "7881b52c",
   "metadata": {},
   "source": [
    "We can get the ratio of these values by dividing confusion matrix with its sum."
   ]
  },
  {
   "cell_type": "code",
   "execution_count": 19,
   "id": "e7a212bd",
   "metadata": {},
   "outputs": [
    {
     "data": {
      "text/plain": [
       "array([[0.65, 0.07],\n",
       "       [0.12, 0.15]])"
      ]
     },
     "execution_count": 19,
     "metadata": {},
     "output_type": "execute_result"
    }
   ],
   "source": [
    "(confusion_matrix / confusion_matrix.sum()).round(2)"
   ]
  },
  {
   "cell_type": "markdown",
   "id": "f1d48787",
   "metadata": {},
   "source": [
    "As we have talked about it earlier the accuracy, it is the correct predictions (tn + tp) that our model made. The confusion matrix is telling us exactly that (`65% + 15% = 80%`), and that was indeed the model predictions. We can calculate the accuracy using the formula:\n",
    "\n",
    "$$\\frac{TN + TP}{TN + TP + FN + FP}$$"
   ]
  },
  {
   "cell_type": "code",
   "execution_count": 20,
   "id": "3e83536a",
   "metadata": {},
   "outputs": [
    {
     "data": {
      "text/plain": [
       "80.0"
      ]
     },
     "execution_count": 20,
     "metadata": {},
     "output_type": "execute_result"
    }
   ],
   "source": [
    "# Calculate accuracy\n",
    "acc = (tn + tp) / (tn + tp + fn + fp)\n",
    "acc.round(2)*100"
   ]
  },
  {
   "cell_type": "markdown",
   "id": "c5b4b391",
   "metadata": {},
   "source": [
    "## 4.4 Precision and Recall\n",
    "\n",
    "If we consider the problem we have in hand, we can say that:\n",
    "- **Precision**: Among all the customers classified by the model as potential churn, the fraction of that ended up to churned\n",
    "- **Recall**: Among all the customers that ended up to be churned, the fraction of that the model correctly classified\n",
    "\n",
    "Precision is the fraction of TP divided by TP + FP, therefore it only consider positive labels: \n",
    "\n",
    "$$\\frac{TP}{TP + FP}$$\n",
    "\n",
    "Recall is the fraction of TP divided by TP + FN:\n",
    "\n",
    "$$\\frac{TP}{TP + FN}$$\n",
    "\n",
    "Let's see how we can calculate them:"
   ]
  },
  {
   "cell_type": "code",
   "execution_count": 21,
   "id": "2b998cb0",
   "metadata": {},
   "outputs": [
    {
     "data": {
      "text/plain": [
       "0.68"
      ]
     },
     "execution_count": 21,
     "metadata": {},
     "output_type": "execute_result"
    }
   ],
   "source": [
    "# Calculate precision\n",
    "p = tp / (tp + fp)\n",
    "p.round(2)"
   ]
  },
  {
   "cell_type": "markdown",
   "id": "50e9da47",
   "metadata": {},
   "source": [
    "We get the precision of 68% and what that means it 22% of the customer who were not going to churn but got the promotion."
   ]
  },
  {
   "cell_type": "code",
   "execution_count": 22,
   "id": "4df1c6cc",
   "metadata": {},
   "outputs": [
    {
     "data": {
      "text/plain": [
       "0.54"
      ]
     },
     "execution_count": 22,
     "metadata": {},
     "output_type": "execute_result"
    }
   ],
   "source": [
    "# Calculate recall\n",
    "r = tp / (tp + fn)\n",
    "r.round(2)"
   ]
  },
  {
   "cell_type": "markdown",
   "id": "edc3f1a0",
   "metadata": {},
   "source": [
    "Recall is 54% which means our model failed to identify 46% of customer who are churning.\n",
    "\n",
    "Precision and recall give us the complete picture of the model performance and that's why making assumption on the basis of accuracy can be misleading due to imbalance class distribution.\n",
    "\n",
    "## 4.5 ROC Curves\n",
    "\n",
    "### FRP and TPR of the model\n",
    "\n",
    "ROC curves (Receiver Operating Characteristic) measures two things:\n",
    "\n",
    "- FPR: false positive rate is the fraction of FP divided by total number of TN and FP. We want to minimize the FPR.\n",
    "- TPR: true positive rate is the fraction of TP divided by total number of FN and TP. We want to maximize the TPR. Note, TPR is the recall in the confusion matrix.\n",
    "\n",
    "The formulas of FPR and TPR are followed as:\n",
    "\n",
    "$$FPR = \\frac{FP}{TN + FP}$$\n",
    "\n",
    "$$TPR = \\frac{TP}{FN + TP}$$\n",
    "\n",
    "Using calulate FPR and TRP using the above formulas:"
   ]
  },
  {
   "cell_type": "code",
   "execution_count": 23,
   "id": "b9b69d64",
   "metadata": {},
   "outputs": [
    {
     "data": {
      "text/plain": [
       "0.09872922776148582"
      ]
     },
     "execution_count": 23,
     "metadata": {},
     "output_type": "execute_result"
    }
   ],
   "source": [
    "# Calculate FPR\n",
    "fpr = fp / (tn + fp)\n",
    "fpr"
   ]
  },
  {
   "cell_type": "markdown",
   "id": "41838c57",
   "metadata": {},
   "source": [
    "The above ratio tells us that the model failed predict about 10% of the negative class."
   ]
  },
  {
   "cell_type": "code",
   "execution_count": 24,
   "id": "a95cd111",
   "metadata": {},
   "outputs": [
    {
     "data": {
      "text/plain": [
       "0.5440414507772021"
      ]
     },
     "execution_count": 24,
     "metadata": {},
     "output_type": "execute_result"
    }
   ],
   "source": [
    "# Calculate TPR\n",
    "tpr = tp / (fn + tp)\n",
    "tpr"
   ]
  },
  {
   "cell_type": "markdown",
   "id": "02f07d58",
   "metadata": {},
   "source": [
    "This shows that model missed 46% of the positive class.\n",
    "\n",
    "The above results are drived when the threshold was 0.5. Let's calculate the FPR and TPR for 101 different thresholds and plot the results."
   ]
  },
  {
   "cell_type": "code",
   "execution_count": 25,
   "id": "a6bac738",
   "metadata": {},
   "outputs": [],
   "source": [
    "# List to store values of thresholds, tp, fp, fn, and tn\n",
    "scores = []\n",
    "\n",
    "# Array of 101 thresholds between 0 and 1\n",
    "thresholds = np.linspace(0, 1, 101)\n",
    "\n",
    "for t in thresholds:\n",
    "    # actual class labels\n",
    "    actual_positive = y_val == 1\n",
    "    actual_negative = y_val == 0\n",
    "    \n",
    "    # predicted class labels\n",
    "    predict_positive = y_pred >= t\n",
    "    predict_negative = y_pred < t\n",
    "    \n",
    "    # number of true positives and true negatives\n",
    "    tp = (predict_positive & actual_positive).sum()\n",
    "    tn = (predict_negative & actual_negative).sum()\n",
    "    \n",
    "    # number of false positives and false negatives\n",
    "    fp = (predict_positive & actual_negative).sum()\n",
    "    fn = (predict_negative & actual_positive).sum()\n",
    "    \n",
    "    scores.append((t, tp, fp, fn, tn)) # tuple"
   ]
  },
  {
   "cell_type": "code",
   "execution_count": 26,
   "id": "77c64d92",
   "metadata": {},
   "outputs": [
    {
     "data": {
      "text/html": [
       "<div>\n",
       "<style scoped>\n",
       "    .dataframe tbody tr th:only-of-type {\n",
       "        vertical-align: middle;\n",
       "    }\n",
       "\n",
       "    .dataframe tbody tr th {\n",
       "        vertical-align: top;\n",
       "    }\n",
       "\n",
       "    .dataframe thead th {\n",
       "        text-align: right;\n",
       "    }\n",
       "</style>\n",
       "<table border=\"1\" class=\"dataframe\">\n",
       "  <thead>\n",
       "    <tr style=\"text-align: right;\">\n",
       "      <th></th>\n",
       "      <th>threshold</th>\n",
       "      <th>tp</th>\n",
       "      <th>fp</th>\n",
       "      <th>fn</th>\n",
       "      <th>tn</th>\n",
       "    </tr>\n",
       "  </thead>\n",
       "  <tbody>\n",
       "    <tr>\n",
       "      <th>0</th>\n",
       "      <td>0.00</td>\n",
       "      <td>386</td>\n",
       "      <td>1023</td>\n",
       "      <td>0</td>\n",
       "      <td>0</td>\n",
       "    </tr>\n",
       "    <tr>\n",
       "      <th>1</th>\n",
       "      <td>0.01</td>\n",
       "      <td>385</td>\n",
       "      <td>913</td>\n",
       "      <td>1</td>\n",
       "      <td>110</td>\n",
       "    </tr>\n",
       "    <tr>\n",
       "      <th>2</th>\n",
       "      <td>0.02</td>\n",
       "      <td>384</td>\n",
       "      <td>830</td>\n",
       "      <td>2</td>\n",
       "      <td>193</td>\n",
       "    </tr>\n",
       "    <tr>\n",
       "      <th>3</th>\n",
       "      <td>0.03</td>\n",
       "      <td>383</td>\n",
       "      <td>766</td>\n",
       "      <td>3</td>\n",
       "      <td>257</td>\n",
       "    </tr>\n",
       "    <tr>\n",
       "      <th>4</th>\n",
       "      <td>0.04</td>\n",
       "      <td>381</td>\n",
       "      <td>715</td>\n",
       "      <td>5</td>\n",
       "      <td>308</td>\n",
       "    </tr>\n",
       "    <tr>\n",
       "      <th>...</th>\n",
       "      <td>...</td>\n",
       "      <td>...</td>\n",
       "      <td>...</td>\n",
       "      <td>...</td>\n",
       "      <td>...</td>\n",
       "    </tr>\n",
       "    <tr>\n",
       "      <th>96</th>\n",
       "      <td>0.96</td>\n",
       "      <td>0</td>\n",
       "      <td>0</td>\n",
       "      <td>386</td>\n",
       "      <td>1023</td>\n",
       "    </tr>\n",
       "    <tr>\n",
       "      <th>97</th>\n",
       "      <td>0.97</td>\n",
       "      <td>0</td>\n",
       "      <td>0</td>\n",
       "      <td>386</td>\n",
       "      <td>1023</td>\n",
       "    </tr>\n",
       "    <tr>\n",
       "      <th>98</th>\n",
       "      <td>0.98</td>\n",
       "      <td>0</td>\n",
       "      <td>0</td>\n",
       "      <td>386</td>\n",
       "      <td>1023</td>\n",
       "    </tr>\n",
       "    <tr>\n",
       "      <th>99</th>\n",
       "      <td>0.99</td>\n",
       "      <td>0</td>\n",
       "      <td>0</td>\n",
       "      <td>386</td>\n",
       "      <td>1023</td>\n",
       "    </tr>\n",
       "    <tr>\n",
       "      <th>100</th>\n",
       "      <td>1.00</td>\n",
       "      <td>0</td>\n",
       "      <td>0</td>\n",
       "      <td>386</td>\n",
       "      <td>1023</td>\n",
       "    </tr>\n",
       "  </tbody>\n",
       "</table>\n",
       "<p>101 rows × 5 columns</p>\n",
       "</div>"
      ],
      "text/plain": [
       "     threshold   tp    fp   fn    tn\n",
       "0         0.00  386  1023    0     0\n",
       "1         0.01  385   913    1   110\n",
       "2         0.02  384   830    2   193\n",
       "3         0.03  383   766    3   257\n",
       "4         0.04  381   715    5   308\n",
       "..         ...  ...   ...  ...   ...\n",
       "96        0.96    0     0  386  1023\n",
       "97        0.97    0     0  386  1023\n",
       "98        0.98    0     0  386  1023\n",
       "99        0.99    0     0  386  1023\n",
       "100       1.00    0     0  386  1023\n",
       "\n",
       "[101 rows x 5 columns]"
      ]
     },
     "execution_count": 26,
     "metadata": {},
     "output_type": "execute_result"
    }
   ],
   "source": [
    "# Convert scores list to dataframe\n",
    "columns = ['threshold', 'tp', 'fp', 'fn', 'tn']\n",
    "df_scores = pd.DataFrame(scores, columns=columns)\n",
    "df_scores"
   ]
  },
  {
   "cell_type": "code",
   "execution_count": 27,
   "id": "28f9cffa",
   "metadata": {},
   "outputs": [
    {
     "data": {
      "text/html": [
       "<div>\n",
       "<style scoped>\n",
       "    .dataframe tbody tr th:only-of-type {\n",
       "        vertical-align: middle;\n",
       "    }\n",
       "\n",
       "    .dataframe tbody tr th {\n",
       "        vertical-align: top;\n",
       "    }\n",
       "\n",
       "    .dataframe thead th {\n",
       "        text-align: right;\n",
       "    }\n",
       "</style>\n",
       "<table border=\"1\" class=\"dataframe\">\n",
       "  <thead>\n",
       "    <tr style=\"text-align: right;\">\n",
       "      <th></th>\n",
       "      <th>threshold</th>\n",
       "      <th>tp</th>\n",
       "      <th>fp</th>\n",
       "      <th>fn</th>\n",
       "      <th>tn</th>\n",
       "      <th>tpr</th>\n",
       "      <th>fpr</th>\n",
       "    </tr>\n",
       "  </thead>\n",
       "  <tbody>\n",
       "    <tr>\n",
       "      <th>0</th>\n",
       "      <td>0.00</td>\n",
       "      <td>386</td>\n",
       "      <td>1023</td>\n",
       "      <td>0</td>\n",
       "      <td>0</td>\n",
       "      <td>1.000000</td>\n",
       "      <td>1.000000</td>\n",
       "    </tr>\n",
       "    <tr>\n",
       "      <th>1</th>\n",
       "      <td>0.01</td>\n",
       "      <td>385</td>\n",
       "      <td>913</td>\n",
       "      <td>1</td>\n",
       "      <td>110</td>\n",
       "      <td>0.997409</td>\n",
       "      <td>0.892473</td>\n",
       "    </tr>\n",
       "    <tr>\n",
       "      <th>2</th>\n",
       "      <td>0.02</td>\n",
       "      <td>384</td>\n",
       "      <td>830</td>\n",
       "      <td>2</td>\n",
       "      <td>193</td>\n",
       "      <td>0.994819</td>\n",
       "      <td>0.811339</td>\n",
       "    </tr>\n",
       "    <tr>\n",
       "      <th>3</th>\n",
       "      <td>0.03</td>\n",
       "      <td>383</td>\n",
       "      <td>766</td>\n",
       "      <td>3</td>\n",
       "      <td>257</td>\n",
       "      <td>0.992228</td>\n",
       "      <td>0.748778</td>\n",
       "    </tr>\n",
       "    <tr>\n",
       "      <th>4</th>\n",
       "      <td>0.04</td>\n",
       "      <td>381</td>\n",
       "      <td>715</td>\n",
       "      <td>5</td>\n",
       "      <td>308</td>\n",
       "      <td>0.987047</td>\n",
       "      <td>0.698925</td>\n",
       "    </tr>\n",
       "    <tr>\n",
       "      <th>...</th>\n",
       "      <td>...</td>\n",
       "      <td>...</td>\n",
       "      <td>...</td>\n",
       "      <td>...</td>\n",
       "      <td>...</td>\n",
       "      <td>...</td>\n",
       "      <td>...</td>\n",
       "    </tr>\n",
       "    <tr>\n",
       "      <th>96</th>\n",
       "      <td>0.96</td>\n",
       "      <td>0</td>\n",
       "      <td>0</td>\n",
       "      <td>386</td>\n",
       "      <td>1023</td>\n",
       "      <td>0.000000</td>\n",
       "      <td>0.000000</td>\n",
       "    </tr>\n",
       "    <tr>\n",
       "      <th>97</th>\n",
       "      <td>0.97</td>\n",
       "      <td>0</td>\n",
       "      <td>0</td>\n",
       "      <td>386</td>\n",
       "      <td>1023</td>\n",
       "      <td>0.000000</td>\n",
       "      <td>0.000000</td>\n",
       "    </tr>\n",
       "    <tr>\n",
       "      <th>98</th>\n",
       "      <td>0.98</td>\n",
       "      <td>0</td>\n",
       "      <td>0</td>\n",
       "      <td>386</td>\n",
       "      <td>1023</td>\n",
       "      <td>0.000000</td>\n",
       "      <td>0.000000</td>\n",
       "    </tr>\n",
       "    <tr>\n",
       "      <th>99</th>\n",
       "      <td>0.99</td>\n",
       "      <td>0</td>\n",
       "      <td>0</td>\n",
       "      <td>386</td>\n",
       "      <td>1023</td>\n",
       "      <td>0.000000</td>\n",
       "      <td>0.000000</td>\n",
       "    </tr>\n",
       "    <tr>\n",
       "      <th>100</th>\n",
       "      <td>1.00</td>\n",
       "      <td>0</td>\n",
       "      <td>0</td>\n",
       "      <td>386</td>\n",
       "      <td>1023</td>\n",
       "      <td>0.000000</td>\n",
       "      <td>0.000000</td>\n",
       "    </tr>\n",
       "  </tbody>\n",
       "</table>\n",
       "<p>101 rows × 7 columns</p>\n",
       "</div>"
      ],
      "text/plain": [
       "     threshold   tp    fp   fn    tn       tpr       fpr\n",
       "0         0.00  386  1023    0     0  1.000000  1.000000\n",
       "1         0.01  385   913    1   110  0.997409  0.892473\n",
       "2         0.02  384   830    2   193  0.994819  0.811339\n",
       "3         0.03  383   766    3   257  0.992228  0.748778\n",
       "4         0.04  381   715    5   308  0.987047  0.698925\n",
       "..         ...  ...   ...  ...   ...       ...       ...\n",
       "96        0.96    0     0  386  1023  0.000000  0.000000\n",
       "97        0.97    0     0  386  1023  0.000000  0.000000\n",
       "98        0.98    0     0  386  1023  0.000000  0.000000\n",
       "99        0.99    0     0  386  1023  0.000000  0.000000\n",
       "100       1.00    0     0  386  1023  0.000000  0.000000\n",
       "\n",
       "[101 rows x 7 columns]"
      ]
     },
     "execution_count": 27,
     "metadata": {},
     "output_type": "execute_result"
    }
   ],
   "source": [
    "# Create columns for tpr and fpr\n",
    "df_scores['tpr'] = df_scores.tp / (df_scores.tp + df_scores.fn)\n",
    "df_scores['fpr'] = df_scores.fp / (df_scores.fp + df_scores.tn)\n",
    "df_scores"
   ]
  },
  {
   "cell_type": "code",
   "execution_count": 28,
   "id": "82fb98de",
   "metadata": {},
   "outputs": [
    {
     "data": {
      "image/png": "[encoded data removed]",
      "text/plain": [
       "<Figure size 640x480 with 1 Axes>"
      ]
     },
     "metadata": {},
     "output_type": "display_data"
    }
   ],
   "source": [
    "# Plot model tpr and fpr scores\n",
    "plt.plot(df_scores.threshold, df_scores['tpr'], label='TPR')\n",
    "plt.plot(df_scores.threshold, df_scores['fpr'], label='FPR')\n",
    "plt.xlabel('Threshold')\n",
    "plt.ylabel('Fraction rates (TPR & FPR)')\n",
    "plt.legend()\n",
    "plt.show()"
   ]
  },
  {
   "cell_type": "markdown",
   "id": "ab7874e4",
   "metadata": {},
   "source": [
    "The graph above telling us when the threshold is 0, both TPR and FPR are 100%. Means the model is predicting everything correctly for positives class (churning) and negatives class (not churning). Then as the threshold increases both TPR and FPR decrease as well (remember we want to minimize FPR and maximize TPR).\n",
    "\n",
    "So now we have some insights how the model is performing but that's not enough we need something to comparision. For that we'll create two models `random model` and `ideal model`.\n",
    "\n",
    "### Random model\n",
    "\n",
    "For random model, we'll create an array `y_rand_pred` as predictions using `np.random.uniform(0, 1, size=len(y_val))`:"
   ]
  },
  {
   "cell_type": "code",
   "execution_count": 29,
   "id": "2672d5a9",
   "metadata": {},
   "outputs": [
    {
     "data": {
      "text/plain": [
       "array([0.54770863, 0.85521635, 0.21995507, ..., 0.04777491, 0.93268859,\n",
       "       0.32357297])"
      ]
     },
     "execution_count": 29,
     "metadata": {},
     "output_type": "execute_result"
    }
   ],
   "source": [
    "# Create y_rand_pred\n",
    "y_rand_pred = np.random.uniform(0, 1, size=len(y_val))\n",
    "y_rand_pred"
   ]
  },
  {
   "cell_type": "markdown",
   "id": "c775a55a",
   "metadata": {},
   "source": [
    "Now, we evaluate the `y_rand_pred` on `y_val` with 0.5 threshold."
   ]
  },
  {
   "cell_type": "code",
   "execution_count": 30,
   "id": "02e822db",
   "metadata": {},
   "outputs": [
    {
     "data": {
      "text/plain": [
       "0.49467707594038324"
      ]
     },
     "execution_count": 30,
     "metadata": {},
     "output_type": "execute_result"
    }
   ],
   "source": [
    "# Evaluate y_rand_pred on y_val\n",
    "((y_rand_pred >= 0.5) == y_val).mean()"
   ]
  },
  {
   "cell_type": "markdown",
   "id": "b231f73e",
   "metadata": {},
   "source": [
    "50% accuracy tells us that random model is not very useful predicting customers who are going to churn or not.\n",
    "\n",
    "Let's create a function `tpr_fpr_dataframe()` that takes actual values and predictions to compute model TPR and FPR."
   ]
  },
  {
   "cell_type": "code",
   "execution_count": 31,
   "id": "f0bed33a",
   "metadata": {},
   "outputs": [],
   "source": [
    "def tpr_fpr_dataframe(y_val, y_pred):\n",
    "    # List to store values of thresholds, tp, fp, fn, and tn\n",
    "    scores = []\n",
    "\n",
    "    # Array of 101 thresholds between 0 and 1\n",
    "    thresholds = np.linspace(0, 1, 101)\n",
    "\n",
    "    for t in thresholds:\n",
    "        # actual class labels\n",
    "        actual_positive = y_val == 1\n",
    "        actual_negative = y_val == 0\n",
    "\n",
    "        # predicted class labels\n",
    "        predict_positive = y_pred >= t\n",
    "        predict_negative = y_pred < t\n",
    "\n",
    "        # number of true positive and true negative\n",
    "        tp = (predict_positive & actual_positive).sum()\n",
    "        tn = (predict_negative & actual_negative).sum()\n",
    "\n",
    "        # number of false positive and false negative\n",
    "        fp = (predict_positive & actual_negative).sum()\n",
    "        fn = (predict_negative & actual_positive).sum()\n",
    "\n",
    "        scores.append((t, tp, fp, fn, tn)) # tuple\n",
    "        \n",
    "    # Convert scores list to dataframe\n",
    "    columns = ['threshold', 'tp', 'fp', 'fn', 'tn']\n",
    "    df_scores = pd.DataFrame(scores, columns=columns)\n",
    "    \n",
    "    # Create columns for tpr and fpr\n",
    "    df_scores['tpr'] = df_scores.tp / (df_scores.tp + df_scores.fn)\n",
    "    df_scores['fpr'] = df_scores.fp / (df_scores.fp + df_scores.tn)\n",
    "    \n",
    "    return df_scores"
   ]
  },
  {
   "cell_type": "code",
   "execution_count": 32,
   "id": "7f01b52b",
   "metadata": {},
   "outputs": [
    {
     "data": {
      "text/html": [
       "<div>\n",
       "<style scoped>\n",
       "    .dataframe tbody tr th:only-of-type {\n",
       "        vertical-align: middle;\n",
       "    }\n",
       "\n",
       "    .dataframe tbody tr th {\n",
       "        vertical-align: top;\n",
       "    }\n",
       "\n",
       "    .dataframe thead th {\n",
       "        text-align: right;\n",
       "    }\n",
       "</style>\n",
       "<table border=\"1\" class=\"dataframe\">\n",
       "  <thead>\n",
       "    <tr style=\"text-align: right;\">\n",
       "      <th></th>\n",
       "      <th>threshold</th>\n",
       "      <th>tp</th>\n",
       "      <th>fp</th>\n",
       "      <th>fn</th>\n",
       "      <th>tn</th>\n",
       "      <th>tpr</th>\n",
       "      <th>fpr</th>\n",
       "    </tr>\n",
       "  </thead>\n",
       "  <tbody>\n",
       "    <tr>\n",
       "      <th>0</th>\n",
       "      <td>0.0</td>\n",
       "      <td>386</td>\n",
       "      <td>1023</td>\n",
       "      <td>0</td>\n",
       "      <td>0</td>\n",
       "      <td>1.000000</td>\n",
       "      <td>1.000000</td>\n",
       "    </tr>\n",
       "    <tr>\n",
       "      <th>10</th>\n",
       "      <td>0.1</td>\n",
       "      <td>343</td>\n",
       "      <td>926</td>\n",
       "      <td>43</td>\n",
       "      <td>97</td>\n",
       "      <td>0.888601</td>\n",
       "      <td>0.905181</td>\n",
       "    </tr>\n",
       "    <tr>\n",
       "      <th>20</th>\n",
       "      <td>0.2</td>\n",
       "      <td>300</td>\n",
       "      <td>821</td>\n",
       "      <td>86</td>\n",
       "      <td>202</td>\n",
       "      <td>0.777202</td>\n",
       "      <td>0.802542</td>\n",
       "    </tr>\n",
       "    <tr>\n",
       "      <th>30</th>\n",
       "      <td>0.3</td>\n",
       "      <td>267</td>\n",
       "      <td>726</td>\n",
       "      <td>119</td>\n",
       "      <td>297</td>\n",
       "      <td>0.691710</td>\n",
       "      <td>0.709677</td>\n",
       "    </tr>\n",
       "    <tr>\n",
       "      <th>40</th>\n",
       "      <td>0.4</td>\n",
       "      <td>224</td>\n",
       "      <td>633</td>\n",
       "      <td>162</td>\n",
       "      <td>390</td>\n",
       "      <td>0.580311</td>\n",
       "      <td>0.618768</td>\n",
       "    </tr>\n",
       "    <tr>\n",
       "      <th>50</th>\n",
       "      <td>0.5</td>\n",
       "      <td>194</td>\n",
       "      <td>520</td>\n",
       "      <td>192</td>\n",
       "      <td>503</td>\n",
       "      <td>0.502591</td>\n",
       "      <td>0.508309</td>\n",
       "    </tr>\n",
       "    <tr>\n",
       "      <th>60</th>\n",
       "      <td>0.6</td>\n",
       "      <td>158</td>\n",
       "      <td>426</td>\n",
       "      <td>228</td>\n",
       "      <td>597</td>\n",
       "      <td>0.409326</td>\n",
       "      <td>0.416422</td>\n",
       "    </tr>\n",
       "    <tr>\n",
       "      <th>70</th>\n",
       "      <td>0.7</td>\n",
       "      <td>121</td>\n",
       "      <td>321</td>\n",
       "      <td>265</td>\n",
       "      <td>702</td>\n",
       "      <td>0.313472</td>\n",
       "      <td>0.313783</td>\n",
       "    </tr>\n",
       "    <tr>\n",
       "      <th>80</th>\n",
       "      <td>0.8</td>\n",
       "      <td>82</td>\n",
       "      <td>223</td>\n",
       "      <td>304</td>\n",
       "      <td>800</td>\n",
       "      <td>0.212435</td>\n",
       "      <td>0.217986</td>\n",
       "    </tr>\n",
       "    <tr>\n",
       "      <th>90</th>\n",
       "      <td>0.9</td>\n",
       "      <td>40</td>\n",
       "      <td>105</td>\n",
       "      <td>346</td>\n",
       "      <td>918</td>\n",
       "      <td>0.103627</td>\n",
       "      <td>0.102639</td>\n",
       "    </tr>\n",
       "    <tr>\n",
       "      <th>100</th>\n",
       "      <td>1.0</td>\n",
       "      <td>0</td>\n",
       "      <td>0</td>\n",
       "      <td>386</td>\n",
       "      <td>1023</td>\n",
       "      <td>0.000000</td>\n",
       "      <td>0.000000</td>\n",
       "    </tr>\n",
       "  </tbody>\n",
       "</table>\n",
       "</div>"
      ],
      "text/plain": [
       "     threshold   tp    fp   fn    tn       tpr       fpr\n",
       "0          0.0  386  1023    0     0  1.000000  1.000000\n",
       "10         0.1  343   926   43    97  0.888601  0.905181\n",
       "20         0.2  300   821   86   202  0.777202  0.802542\n",
       "30         0.3  267   726  119   297  0.691710  0.709677\n",
       "40         0.4  224   633  162   390  0.580311  0.618768\n",
       "50         0.5  194   520  192   503  0.502591  0.508309\n",
       "60         0.6  158   426  228   597  0.409326  0.416422\n",
       "70         0.7  121   321  265   702  0.313472  0.313783\n",
       "80         0.8   82   223  304   800  0.212435  0.217986\n",
       "90         0.9   40   105  346   918  0.103627  0.102639\n",
       "100        1.0    0     0  386  1023  0.000000  0.000000"
      ]
     },
     "execution_count": 32,
     "metadata": {},
     "output_type": "execute_result"
    }
   ],
   "source": [
    "# Create dataframe for random model\n",
    "df_rand = tpr_fpr_dataframe(y_val, y_rand_pred)\n",
    "df_rand[::10] # display every 10th row"
   ]
  },
  {
   "cell_type": "code",
   "execution_count": 33,
   "id": "2096e64a",
   "metadata": {},
   "outputs": [
    {
     "data": {
      "image/png": "[encoded data removed]",
      "text/plain": [
       "<Figure size 640x480 with 1 Axes>"
      ]
     },
     "metadata": {},
     "output_type": "display_data"
    }
   ],
   "source": [
    "# Plot random model tpr and fpr scores\n",
    "plt.plot(df_rand.threshold, df_rand['tpr'], label='TPR')\n",
    "plt.plot(df_rand.threshold, df_rand['fpr'], label='FPR')\n",
    "plt.xlabel('Threshold')\n",
    "plt.ylabel('Fraction rates (TPR & FPR)')\n",
    "plt.legend()\n",
    "plt.show()"
   ]
  },
  {
   "cell_type": "markdown",
   "id": "de8a4f74",
   "metadata": {},
   "source": [
    "It is almost a straight line and if we consider the threshold at 0.6, the fraction rates (for TPR and FPR) are 40%. This means that the random model thinks 40% of the time the customer is churning (TPR) and also missing 40% of the time a customer who is not churning (FPR).\n",
    "\n",
    "In the next benchmark, we want to create an ideal model that predicts every class. In ideal model the values are in order from from smallest (no churn) to largest (churn) and we have an optimal threshold in between these values to predict both classes perfectly. Let's build this model.\n",
    "\n",
    "### Ideal model"
   ]
  },
  {
   "cell_type": "code",
   "execution_count": 34,
   "id": "d3d1dd38",
   "metadata": {},
   "outputs": [
    {
     "data": {
      "text/plain": [
       "(1023, 386)"
      ]
     },
     "execution_count": 34,
     "metadata": {},
     "output_type": "execute_result"
    }
   ],
   "source": [
    "# Extract the number of negative class from y_val\n",
    "num_neg = (y_val == 0).sum()\n",
    "# Extract the number of positive class from y_val\n",
    "num_pos = (y_val == 1).sum()\n",
    "(num_neg, num_pos)"
   ]
  },
  {
   "cell_type": "markdown",
   "id": "0abf3b6b",
   "metadata": {},
   "source": [
    "We'll create an array that corresponds exactly to `y_val` and use it for evaluation."
   ]
  },
  {
   "cell_type": "code",
   "execution_count": 35,
   "id": "107e950b",
   "metadata": {},
   "outputs": [
    {
     "data": {
      "text/plain": [
       "array([0, 0, 0, ..., 1, 1, 1])"
      ]
     },
     "execution_count": 35,
     "metadata": {},
     "output_type": "execute_result"
    }
   ],
   "source": [
    "# Create an array of negative and positive class using np.repeat()\n",
    "y_ideal = np.repeat([0, 1], [num_neg, num_pos])\n",
    "y_ideal"
   ]
  },
  {
   "cell_type": "code",
   "execution_count": 36,
   "id": "b3d2360b",
   "metadata": {},
   "outputs": [
    {
     "data": {
      "text/plain": [
       "array([0., 0., 0., ..., 1., 1., 1.])"
      ]
     },
     "execution_count": 36,
     "metadata": {},
     "output_type": "execute_result"
    }
   ],
   "source": [
    "# Create y_ideal_pred\n",
    "y_ideal_pred = np.linspace(0 , 1, len(y_ideal))\n",
    "y_ideal_pred.round()"
   ]
  },
  {
   "cell_type": "code",
   "execution_count": 37,
   "id": "2c31dd74",
   "metadata": {},
   "outputs": [
    {
     "data": {
      "text/plain": [
       "0.7260468417317246"
      ]
     },
     "execution_count": 37,
     "metadata": {},
     "output_type": "execute_result"
    }
   ],
   "source": [
    "# Find optimal threshold where the accuracy is 100%\n",
    "1 - y_ideal.mean()"
   ]
  },
  {
   "cell_type": "code",
   "execution_count": 38,
   "id": "1d319816",
   "metadata": {},
   "outputs": [
    {
     "data": {
      "text/plain": [
       "1.0"
      ]
     },
     "execution_count": 38,
     "metadata": {},
     "output_type": "execute_result"
    }
   ],
   "source": [
    "# Evaluate y_ideal_pred with y_ideal (set threshold 0.726)\n",
    "((y_ideal_pred >= 0.726) == y_ideal).mean()"
   ]
  },
  {
   "cell_type": "markdown",
   "id": "cc21faf7",
   "metadata": {},
   "source": [
    "The ideal model gives 100% accuracy for negative and positive class when the threshold is 0.726. Let's create dataframe for ideal model and plot its results:"
   ]
  },
  {
   "cell_type": "code",
   "execution_count": 39,
   "id": "96141713",
   "metadata": {},
   "outputs": [
    {
     "data": {
      "text/html": [
       "<div>\n",
       "<style scoped>\n",
       "    .dataframe tbody tr th:only-of-type {\n",
       "        vertical-align: middle;\n",
       "    }\n",
       "\n",
       "    .dataframe tbody tr th {\n",
       "        vertical-align: top;\n",
       "    }\n",
       "\n",
       "    .dataframe thead th {\n",
       "        text-align: right;\n",
       "    }\n",
       "</style>\n",
       "<table border=\"1\" class=\"dataframe\">\n",
       "  <thead>\n",
       "    <tr style=\"text-align: right;\">\n",
       "      <th></th>\n",
       "      <th>threshold</th>\n",
       "      <th>tp</th>\n",
       "      <th>fp</th>\n",
       "      <th>fn</th>\n",
       "      <th>tn</th>\n",
       "      <th>tpr</th>\n",
       "      <th>fpr</th>\n",
       "    </tr>\n",
       "  </thead>\n",
       "  <tbody>\n",
       "    <tr>\n",
       "      <th>0</th>\n",
       "      <td>0.0</td>\n",
       "      <td>386</td>\n",
       "      <td>1023</td>\n",
       "      <td>0</td>\n",
       "      <td>0</td>\n",
       "      <td>1.000000</td>\n",
       "      <td>1.000000</td>\n",
       "    </tr>\n",
       "    <tr>\n",
       "      <th>10</th>\n",
       "      <td>0.1</td>\n",
       "      <td>386</td>\n",
       "      <td>882</td>\n",
       "      <td>0</td>\n",
       "      <td>141</td>\n",
       "      <td>1.000000</td>\n",
       "      <td>0.862170</td>\n",
       "    </tr>\n",
       "    <tr>\n",
       "      <th>20</th>\n",
       "      <td>0.2</td>\n",
       "      <td>386</td>\n",
       "      <td>741</td>\n",
       "      <td>0</td>\n",
       "      <td>282</td>\n",
       "      <td>1.000000</td>\n",
       "      <td>0.724340</td>\n",
       "    </tr>\n",
       "    <tr>\n",
       "      <th>30</th>\n",
       "      <td>0.3</td>\n",
       "      <td>386</td>\n",
       "      <td>600</td>\n",
       "      <td>0</td>\n",
       "      <td>423</td>\n",
       "      <td>1.000000</td>\n",
       "      <td>0.586510</td>\n",
       "    </tr>\n",
       "    <tr>\n",
       "      <th>40</th>\n",
       "      <td>0.4</td>\n",
       "      <td>386</td>\n",
       "      <td>459</td>\n",
       "      <td>0</td>\n",
       "      <td>564</td>\n",
       "      <td>1.000000</td>\n",
       "      <td>0.448680</td>\n",
       "    </tr>\n",
       "    <tr>\n",
       "      <th>50</th>\n",
       "      <td>0.5</td>\n",
       "      <td>386</td>\n",
       "      <td>319</td>\n",
       "      <td>0</td>\n",
       "      <td>704</td>\n",
       "      <td>1.000000</td>\n",
       "      <td>0.311828</td>\n",
       "    </tr>\n",
       "    <tr>\n",
       "      <th>60</th>\n",
       "      <td>0.6</td>\n",
       "      <td>386</td>\n",
       "      <td>178</td>\n",
       "      <td>0</td>\n",
       "      <td>845</td>\n",
       "      <td>1.000000</td>\n",
       "      <td>0.173998</td>\n",
       "    </tr>\n",
       "    <tr>\n",
       "      <th>70</th>\n",
       "      <td>0.7</td>\n",
       "      <td>386</td>\n",
       "      <td>37</td>\n",
       "      <td>0</td>\n",
       "      <td>986</td>\n",
       "      <td>1.000000</td>\n",
       "      <td>0.036168</td>\n",
       "    </tr>\n",
       "    <tr>\n",
       "      <th>80</th>\n",
       "      <td>0.8</td>\n",
       "      <td>282</td>\n",
       "      <td>0</td>\n",
       "      <td>104</td>\n",
       "      <td>1023</td>\n",
       "      <td>0.730570</td>\n",
       "      <td>0.000000</td>\n",
       "    </tr>\n",
       "    <tr>\n",
       "      <th>90</th>\n",
       "      <td>0.9</td>\n",
       "      <td>141</td>\n",
       "      <td>0</td>\n",
       "      <td>245</td>\n",
       "      <td>1023</td>\n",
       "      <td>0.365285</td>\n",
       "      <td>0.000000</td>\n",
       "    </tr>\n",
       "    <tr>\n",
       "      <th>100</th>\n",
       "      <td>1.0</td>\n",
       "      <td>1</td>\n",
       "      <td>0</td>\n",
       "      <td>385</td>\n",
       "      <td>1023</td>\n",
       "      <td>0.002591</td>\n",
       "      <td>0.000000</td>\n",
       "    </tr>\n",
       "  </tbody>\n",
       "</table>\n",
       "</div>"
      ],
      "text/plain": [
       "     threshold   tp    fp   fn    tn       tpr       fpr\n",
       "0          0.0  386  1023    0     0  1.000000  1.000000\n",
       "10         0.1  386   882    0   141  1.000000  0.862170\n",
       "20         0.2  386   741    0   282  1.000000  0.724340\n",
       "30         0.3  386   600    0   423  1.000000  0.586510\n",
       "40         0.4  386   459    0   564  1.000000  0.448680\n",
       "50         0.5  386   319    0   704  1.000000  0.311828\n",
       "60         0.6  386   178    0   845  1.000000  0.173998\n",
       "70         0.7  386    37    0   986  1.000000  0.036168\n",
       "80         0.8  282     0  104  1023  0.730570  0.000000\n",
       "90         0.9  141     0  245  1023  0.365285  0.000000\n",
       "100        1.0    1     0  385  1023  0.002591  0.000000"
      ]
     },
     "execution_count": 39,
     "metadata": {},
     "output_type": "execute_result"
    }
   ],
   "source": [
    "# Dataframe of ideal model\n",
    "df_ideal = tpr_fpr_dataframe(y_ideal, y_ideal_pred)\n",
    "df_ideal[::10]"
   ]
  },
  {
   "cell_type": "code",
   "execution_count": 40,
   "id": "4a81329e",
   "metadata": {},
   "outputs": [
    {
     "data": {
      "image/png": "[encoded data removed]",
      "text/plain": [
       "<Figure size 640x480 with 1 Axes>"
      ]
     },
     "metadata": {},
     "output_type": "display_data"
    }
   ],
   "source": [
    "# Plot ideal model tpr and fpr scores\n",
    "plt.plot(df_ideal.threshold, df_ideal['tpr'], label='TPR')\n",
    "plt.plot(df_ideal.threshold, df_ideal['fpr'], label='FPR')\n",
    "plt.xlabel('Threshold')\n",
    "plt.ylabel('Fraction rates (TPR & FPR)')\n",
    "plt.legend()\n",
    "plt.show()"
   ]
  },
  {
   "cell_type": "markdown",
   "id": "4032ee71",
   "metadata": {},
   "source": [
    "Here we see the TPR stays at 1 and FPR reaches to 0 when the threshold is 0.726 and after that point the model begins to make predictions mistakes again in terms of TPR.\n",
    "\n",
    "Now what we can do is to plot all the benchmarks together and compare them.\n",
    "\n",
    "### Putting everything together"
   ]
  },
  {
   "cell_type": "code",
   "execution_count": 41,
   "id": "f8af3723",
   "metadata": {},
   "outputs": [
    {
     "data": {
      "image/png": "[encoded data removed]",
      "text/plain": [
       "<Figure size 640x480 with 1 Axes>"
      ]
     },
     "metadata": {},
     "output_type": "display_data"
    }
   ],
   "source": [
    "# Plot original model tpr and fpr scores\n",
    "plt.plot(df_scores.threshold, df_scores['tpr'], label='TPR')\n",
    "plt.plot(df_scores.threshold, df_scores['fpr'], label='FPR')\n",
    "\n",
    "# # Plot random model tpr and fpr scores\n",
    "# # We know the random model is just straight line from \n",
    "# # 0 to 1 so we can skip it\n",
    "# plt.plot(df_rand.threshold, df_rand['tpr'], label='TPR')\n",
    "# plt.plot(df_rand.threshold, df_rand['fpr'], label='FPR')\n",
    "\n",
    "# Plot ideal model tpr and fpr scores\n",
    "plt.plot(df_ideal.threshold, df_ideal['tpr'], label='Ideal TPR', color='green')\n",
    "plt.plot(df_ideal.threshold, df_ideal['fpr'], label='Ideal FPR', color='gray')\n",
    "\n",
    "\n",
    "plt.xlabel('Threshold')\n",
    "plt.ylabel('Fraction rates (TPR & FPR)')\n",
    "plt.legend()\n",
    "plt.show()"
   ]
  },
  {
   "cell_type": "markdown",
   "id": "5c1cbc27",
   "metadata": {},
   "source": [
    "By making comparison we can see that there is quite a big difference between model TPR (blue line) and ideal TPR (green line). We want this line as close as possible.\n",
    "\n",
    "On the other line the model FPR (orange line) is far below the ideal FRP (gray line).\n",
    "\n",
    "Ploting against threshold is not always intuitive because for the original model the best accuracy is when threshold is 0.5 and for ideal model it is 0.726. So the best way to analysis the these models is by plotting TPR against FPR."
   ]
  },
  {
   "cell_type": "code",
   "execution_count": 42,
   "id": "b77248d7",
   "metadata": {},
   "outputs": [
    {
     "data": {
      "image/png": "[encoded data removed]",
      "text/plain": [
       "<Figure size 500x500 with 1 Axes>"
      ]
     },
     "metadata": {},
     "output_type": "display_data"
    }
   ],
   "source": [
    "# Make square figure\n",
    "plt.figure(figsize=(5, 5))\n",
    "\n",
    "plt.plot(df_scores.fpr, df_scores.tpr, label='Model')\n",
    "# we know the random model is straight line so we can just plot\n",
    "# 0 and 1\n",
    "plt.plot([0, 1], [0, 1], label='Random', linestyle='--')\n",
    "plt.plot(df_ideal.fpr, df_ideal.tpr, label='ideal')\n",
    "\n",
    "plt.xlabel('FPR')\n",
    "plt.ylabel('TPR')\n",
    "plt.legend()\n",
    "plt.show()"
   ]
  },
  {
   "cell_type": "markdown",
   "id": "596d15f7",
   "metadata": {},
   "source": [
    "For random model the TPR and FPR is 0 (bottom left) and that's when the threshold is 1. It means the no one is churning and there is not false positives. Whereas, when the threshold is 0 (top right), both TPR and FPR becomes 1 and that means all the customers are churning and all those negative predictions are classified wrong because FPR is 100%.\n",
    "\n",
    "For Ideal model, as we've previously seen when the threshold is 0.726 we get the 100% TPR and 0% FPR. Which means the ideal model predicted are the positive class (customer who are churning) correctly. The point where the TPR is 100% and FPR is 0% (top left) is called **north star**.\n",
    "\n",
    "Our goal is to get our model as close as possible to ideal line and far away from the random base line. If we seen our model line goes below the random base line that means there is something wrong and we've made mistakes somewhere.\n",
    "\n",
    "We can also use sklearn to plot ROC curves:"
   ]
  },
  {
   "cell_type": "code",
   "execution_count": 43,
   "id": "111fc04b",
   "metadata": {},
   "outputs": [],
   "source": [
    "from sklearn.metrics import roc_curve\n",
    "\n",
    "fpr, tpr, thresholds = roc_curve(y_val, y_pred)"
   ]
  },
  {
   "cell_type": "code",
   "execution_count": 44,
   "id": "09e57fda",
   "metadata": {},
   "outputs": [
    {
     "data": {
      "image/png": "[encoded data removed]",
      "text/plain": [
       "<Figure size 500x500 with 1 Axes>"
      ]
     },
     "metadata": {},
     "output_type": "display_data"
    }
   ],
   "source": [
    "plt.figure(figsize=(5, 5))\n",
    "\n",
    "plt.plot(fpr, tpr, label='Model') # fpr, tpr from sklearn\n",
    "plt.plot([0, 1], [0, 1], label='Random', linestyle='--')\n",
    "plt.plot(df_ideal.fpr, df_ideal.tpr, label='ideal')\n",
    "\n",
    "plt.xlabel('FPR')\n",
    "plt.ylabel('TPR')\n",
    "plt.legend()\n",
    "plt.show()"
   ]
  },
  {
   "cell_type": "markdown",
   "id": "cba7dade",
   "metadata": {},
   "source": [
    "Notice the model line has more fluctuation and our custom model line. This is because sklearn compute TPR and FPR with more thresholds which gives us more accuracy results.\n",
    "\n",
    "ROC curves are useful to see the performance of the model but AUC (Area Under the Curve) matric which is derived from ROC tells us how good our classifier it.\n",
    "\n",
    "## 4.6 ROC AUC\n",
    "\n",
    "- Area under the ROC curve - useful metric\n",
    "- Interpretation of AUC\n",
    "\n",
    "We can calculate AUC using the sklearn metrics class:"
   ]
  },
  {
   "cell_type": "code",
   "execution_count": 45,
   "id": "cf318ede",
   "metadata": {},
   "outputs": [
    {
     "data": {
      "text/plain": [
       "0.8438429084426076"
      ]
     },
     "execution_count": 45,
     "metadata": {},
     "output_type": "execute_result"
    }
   ],
   "source": [
    "from sklearn.metrics import roc_curve\n",
    "from sklearn.metrics import auc\n",
    "\n",
    "fpr, tpr, thresholds = roc_curve(y_val, y_pred) # taken from previous step\n",
    "auc(fpr, tpr)"
   ]
  },
  {
   "cell_type": "code",
   "execution_count": 46,
   "id": "c334accf",
   "metadata": {},
   "outputs": [
    {
     "data": {
      "text/plain": [
       "0.8437871950323899"
      ]
     },
     "execution_count": 46,
     "metadata": {},
     "output_type": "execute_result"
    }
   ],
   "source": [
    "# Calculate AUC for df_scores\n",
    "auc(df_scores.fpr, df_scores.tpr)"
   ]
  },
  {
   "cell_type": "markdown",
   "id": "50bb270f",
   "metadata": {},
   "source": [
    "Both these scores are same. We can skip the two steps process and calculate AUC directly using sklearn `roc_auc_score()` method, which takes target variable and model predictions as parameters:"
   ]
  },
  {
   "cell_type": "code",
   "execution_count": 47,
   "id": "f2c409c9",
   "metadata": {},
   "outputs": [
    {
     "data": {
      "text/plain": [
       "0.8438429084426076"
      ]
     },
     "execution_count": 47,
     "metadata": {},
     "output_type": "execute_result"
    }
   ],
   "source": [
    "from sklearn.metrics import roc_auc_score\n",
    "\n",
    "roc_auc_score(y_val, y_pred)"
   ]
  },
  {
   "cell_type": "markdown",
   "id": "02c1bc3d",
   "metadata": {},
   "source": [
    "AUC tells us the probability to randomly selected positive class is greater than negative class. In other words, how well model can order the negative and positive class from smallest to largest.\n",
    "\n",
    "We can manually implement this using Python and compute the score."
   ]
  },
  {
   "cell_type": "code",
   "execution_count": 48,
   "id": "e38192ff",
   "metadata": {},
   "outputs": [],
   "source": [
    "# Extract correctly classified negative class\n",
    "neg = y_pred[y_val == 0]\n",
    "\n",
    "# Extract correctly classified positive class\n",
    "pos = y_pred[y_val == 1]"
   ]
  },
  {
   "cell_type": "code",
   "execution_count": 49,
   "id": "40ab8a7d",
   "metadata": {},
   "outputs": [
    {
     "data": {
      "text/plain": [
       "0.84207"
      ]
     },
     "execution_count": 49,
     "metadata": {},
     "output_type": "execute_result"
    }
   ],
   "source": [
    "import random\n",
    "\n",
    "n = 100000 # number of times to run the loop\n",
    "success = 0 # how many times possitive class identified as greater than negative class\n",
    "\n",
    "for i in range(n):\n",
    "    pos_ind = random.randint(0, len(pos) - 1) # len(pos) - 1 to make last element exclusive\n",
    "    neg_ind = random.randint(0, len(neg) - 1)\n",
    "    \n",
    "    if pos[pos_ind] > neg[neg_ind]:\n",
    "        success += 1\n",
    "        \n",
    "success / n"
   ]
  },
  {
   "cell_type": "markdown",
   "id": "325ecb9b",
   "metadata": {},
   "source": [
    "We can also compute the auc using NumPy:"
   ]
  },
  {
   "cell_type": "code",
   "execution_count": 50,
   "id": "c27f5d11",
   "metadata": {},
   "outputs": [
    {
     "data": {
      "text/plain": [
       "0.84646"
      ]
     },
     "execution_count": 50,
     "metadata": {},
     "output_type": "execute_result"
    }
   ],
   "source": [
    "np.random.seed(1)\n",
    "\n",
    "n = 50000\n",
    "pos_ind = np.random.randint(0, len(pos), size=n)\n",
    "neg_ind = np.random.randint(0, len(neg), size=n)\n",
    "\n",
    "(pos[pos_ind] > neg[neg_ind]).mean()"
   ]
  },
  {
   "cell_type": "markdown",
   "id": "c95900c6",
   "metadata": {},
   "source": [
    "## 4.7 Cross-Validation\n",
    "\n",
    "- Evaluating the same model on different subsets of data\n",
    "- Getting the average prediction and the spread within predictions\n",
    "\n",
    "We want to create a function `train()` for training the model. The function takes train dataframe and target series for data transformation and train it using logistic regression. The function also takes the hyperparameter `C` that regularize the model to find the optimal value for best results. Higher value of `C` will have lower regularization on the model."
   ]
  },
  {
   "cell_type": "code",
   "execution_count": 51,
   "id": "eedcca8c",
   "metadata": {},
   "outputs": [],
   "source": [
    "def train(df_train, y_train, C=1.0):\n",
    "    # Filtering out 'customerid' and 'churn' columns\n",
    "    # and convert dataframe to dict\n",
    "    dicts = df_train[categorical + numerical].to_dict(orient='records')\n",
    "    \n",
    "    dv = DictVectorizer(sparse=False)\n",
    "    X_train = dv.fit_transform(dicts)\n",
    "    \n",
    "    model = LogisticRegression(C=C, max_iter=1000)\n",
    "    model.fit(X_train, y_train)\n",
    "    \n",
    "    return dv, model"
   ]
  },
  {
   "cell_type": "code",
   "execution_count": 52,
   "id": "ee8a5439",
   "metadata": {},
   "outputs": [],
   "source": [
    "# Create the model and fit the train data\n",
    "dv, model = train(df_train, y_train, C=0.0001)"
   ]
  },
  {
   "cell_type": "markdown",
   "id": "00579999",
   "metadata": {},
   "source": [
    "Next, we'll create another function `predict()` for making predictions. This function takes dataframe (validation or test), dictvectorizer, and the model as parameters, then it transforms data and makes predictions:"
   ]
  },
  {
   "cell_type": "code",
   "execution_count": 53,
   "id": "6253c7c3",
   "metadata": {},
   "outputs": [],
   "source": [
    "def predict(df, dv, model):\n",
    "    dicts = df[categorical + numerical].to_dict(orient='records')\n",
    "    \n",
    "    X = dv.transform(dicts)\n",
    "    y_pred = model.predict_proba(X)[:, 1]\n",
    "    \n",
    "    return y_pred"
   ]
  },
  {
   "cell_type": "code",
   "execution_count": 54,
   "id": "7285c1f1",
   "metadata": {},
   "outputs": [],
   "source": [
    "# Make predictions on validation data\n",
    "y_pred = predict(df_val, dv, model)"
   ]
  },
  {
   "cell_type": "markdown",
   "id": "d19486f2",
   "metadata": {},
   "source": [
    "In the next step, we'll apply cross-validation (5 folds) and 7 different variation on `C` parameter to calcuation the best AUC curve score along with standard deviation."
   ]
  },
  {
   "cell_type": "code",
   "execution_count": 55,
   "id": "2236ac46",
   "metadata": {},
   "outputs": [
    {
     "data": {
      "application/vnd.jupyter.widget-view+json": {
       "model_id": "c83f4c6a4a274ee5adef60dee720ee9a",
       "version_major": 2,
       "version_minor": 0
      },
      "text/plain": [
       "  0%|          | 0/7 [00:00<?, ?it/s]"
      ]
     },
     "metadata": {},
     "output_type": "display_data"
    },
    {
     "name": "stdout",
     "output_type": "stream",
     "text": [
      "C: 0.001, AUC: 0.825, STD: +-0.009\n",
      "C: 0.01, AUC: 0.840, STD: +-0.009\n",
      "C: 0.1, AUC: 0.841, STD: +-0.007\n",
      "C: 0.5, AUC: 0.840, STD: +-0.007\n",
      "C: 1, AUC: 0.840, STD: +-0.008\n",
      "C: 5, AUC: 0.840, STD: +-0.008\n",
      "C: 10, AUC: 0.841, STD: +-0.008\n"
     ]
    }
   ],
   "source": [
    "from sklearn.model_selection import KFold\n",
    "from tqdm.auto import tqdm\n",
    "\n",
    "n_splits = 5 # kfold split\n",
    "hyper_list = [0.001, 0.01, 0.1, 0.5, 1, 5, 10] # list of hyperparameters\n",
    "\n",
    "for C in tqdm(hyper_list): # tqdm to track the status bar on training\n",
    "    kfold = KFold(n_splits=n_splits, shuffle=True, random_state=1)\n",
    "    \n",
    "    scores = [] # list to store C, auc, and std\n",
    "    \n",
    "    for train_idx, val_idx in kfold.split(df_full_train): # train + validation sets\n",
    "        # Extract train and validation data from 'df_full_train'\n",
    "        df_train = df_full_train.iloc[train_idx]\n",
    "        df_val = df_full_train.iloc[val_idx]\n",
    "        \n",
    "        # Create target variables\n",
    "        y_train = df_train.churn.values\n",
    "        y_val = df_val.churn.values\n",
    "        \n",
    "        # Train and predict model on validation data\n",
    "        dv, model = train(df_train, y_train, C=C)\n",
    "        y_pred = predict(df_val, dv, model)\n",
    "        \n",
    "        # Calculate AUC on validation\n",
    "        auc = roc_auc_score(y_val, y_pred)\n",
    "        scores.append(auc)\n",
    "    \n",
    "    print(f'C: {C}, AUC: {np.mean(scores):.3f}, STD: +-{np.std(scores):.3f}')"
   ]
  },
  {
   "cell_type": "markdown",
   "id": "3b771b9e",
   "metadata": {},
   "source": [
    "In our experiement, we can say that `C=0.1` gives us the best AUC score of 0.841 and STD 0.007.\n",
    "\n",
    "Now we know what is the optimal value to use (`C=0.1`) for model training. We'll now use both train and validation sets (`df_full_train`) to train the model and evaluate it on the test data."
   ]
  },
  {
   "cell_type": "code",
   "execution_count": 56,
   "id": "ef216287",
   "metadata": {},
   "outputs": [
    {
     "data": {
      "text/plain": [
       "0.85872008623398"
      ]
     },
     "execution_count": 56,
     "metadata": {},
     "output_type": "execute_result"
    }
   ],
   "source": [
    "# Train and predict model on test data\n",
    "dv, model = train(df_full_train, df_full_train.churn, C=0.1)\n",
    "y_pred = predict(df_test, dv, model)\n",
    "\n",
    "# Calculate AUC on test\n",
    "auc = roc_auc_score(y_test, y_pred)\n",
    "auc"
   ]
  },
  {
   "cell_type": "markdown",
   "id": "0448500b",
   "metadata": {},
   "source": [
    "The difference between train and test AUC scores is not really big when the hyperparameter is set to 0.1. It means the model is good. If the difference is drastically larger than it'll most likely to be overfitting problem.\n",
    "\n",
    "**Key note**: When the dataset is large we should probabaly use hold-out validation but when it is small then we can use k-hold validation technique."
   ]
  },
  {
   "cell_type": "markdown",
   "id": "556a7093",
   "metadata": {},
   "source": [
    "## 4.8 Summary\n",
    "\n",
    "- Metric - a single number that describes the performance of a model\n",
    "- Accuracy - fraction of correct answers; sometimes misleading\n",
    "- Precision and recall are less misleading when we have class imbalance\n",
    "- ROC Curve - a way to evaluate the performance at all thresholds; it is fine to use with imbalance\n",
    "- K-Fold CV - more reliable estimate for performance (mean + std)\n",
    "\n",
    "## 4.9 Explore More\n",
    "\n",
    "- Check the precision and recall of the dummy classifier that always predict \"FALSE\"\n",
    "- F1 score = 2 * precision * recall / (precision + recall)\n",
    "- Evaluate precision and recall at different thresholds, plot Precision vs Recall - this way you'll get the precision/recall curve (similar to ROC curve)\n",
    "- Area under the PR curve is also a useful metric\n",
    "\n",
    "Other projects:\n",
    "\n",
    "- Calculate the metrics for datasets from the previous week\n",
    "\n",
    "### Calculate Precision and Recall for dummy classifier\n",
    "\n",
    "To find precision and recall for dummy classifier, we'll split the data into train 80% and test 20% for training and making predictions."
   ]
  },
  {
   "cell_type": "code",
   "execution_count": 57,
   "id": "65df4259",
   "metadata": {},
   "outputs": [],
   "source": [
    "# Split 80% train and 20% test sets\n",
    "df_full, df_test = train_test_split(df, test_size=0.2, random_state=1)\n",
    "\n",
    "# Reset indexes\n",
    "df_full = df_full.reset_index(drop=True)\n",
    "df_test = df_test.reset_index(drop=True)\n",
    "\n",
    "# Create target variable for train/test\n",
    "y_full = df_full.churn.values\n",
    "y_test = df_test.churn.values\n",
    "\n",
    "# Delete target valriable churn from features\n",
    "del df_full['churn']\n",
    "del df_test['churn']"
   ]
  },
  {
   "cell_type": "code",
   "execution_count": 58,
   "id": "153a6bda",
   "metadata": {},
   "outputs": [],
   "source": [
    "# Train and predict model on test data\n",
    "dv, model = train(df_full, y_full)\n",
    "y_pred = predict(df_test, dv, model)"
   ]
  },
  {
   "cell_type": "markdown",
   "id": "4f99eece",
   "metadata": {},
   "source": [
    "In the steps below we'll set the threshold to `1.0` so all the predictions become not churning."
   ]
  },
  {
   "cell_type": "code",
   "execution_count": 59,
   "id": "e5daf301",
   "metadata": {},
   "outputs": [
    {
     "data": {
      "text/plain": [
       "array([[1061,    0],\n",
       "       [ 348,    0]])"
      ]
     },
     "execution_count": 59,
     "metadata": {},
     "output_type": "execute_result"
    }
   ],
   "source": [
    "# Create arrays to represent actual class labels\n",
    "actual_positive = y_test == 1\n",
    "actual_negative = y_test == 0\n",
    "\n",
    "# Create arrays to represent dummy predicted class labels\n",
    "# Set threshold to 1.0 to always predict 'False'\n",
    "t = 1.0\n",
    "dummy_pred_positive = y_pred >= t\n",
    "dummy_pred_negative = y_pred < t\n",
    "\n",
    "# Calculate number of true positive and negative class labels\n",
    "tp = (dummy_pred_positive & actual_positive).sum()\n",
    "tn = (dummy_pred_negative & actual_negative).sum()\n",
    "\n",
    "# Calculate number of false positive and negative class labels\n",
    "fp = (dummy_pred_positive & actual_negative).sum()\n",
    "fn = (dummy_pred_negative & actual_positive).sum()\n",
    "\n",
    "# Create confusion matrix\n",
    "confusion_matrix = np.array([\n",
    "    [tn, fp],\n",
    "    [fn, tp]\n",
    "])\n",
    "\n",
    "confusion_matrix"
   ]
  },
  {
   "cell_type": "markdown",
   "id": "cd039c6a",
   "metadata": {},
   "source": [
    "Notice there is no positive class predicted by the dummy model in the confusion matrix. Finally, we'll calculate precision and recall for the dummy classifier."
   ]
  },
  {
   "cell_type": "code",
   "execution_count": 60,
   "id": "5f1b227a",
   "metadata": {},
   "outputs": [
    {
     "data": {
      "text/plain": [
       "nan"
      ]
     },
     "execution_count": 60,
     "metadata": {},
     "output_type": "execute_result"
    }
   ],
   "source": [
    "np.seterr(all=\"ignore\")\n",
    "\n",
    "# Calculate precision\n",
    "p = tp / (tp + fp)\n",
    "p.round(2)"
   ]
  },
  {
   "cell_type": "code",
   "execution_count": 61,
   "id": "6e12c05f",
   "metadata": {},
   "outputs": [
    {
     "data": {
      "text/plain": [
       "0.0"
      ]
     },
     "execution_count": 61,
     "metadata": {},
     "output_type": "execute_result"
    }
   ],
   "source": [
    "# Calculate recall\n",
    "r = tp / (tp + fn)\n",
    "r.round(2)"
   ]
  },
  {
   "cell_type": "markdown",
   "id": "85c6e0bd",
   "metadata": {},
   "source": [
    "The precision score is nan because we can't have 0 in the denominator of a fraction. On the other hand, recall is 0.0 because the fraction 0 divided by 348 is nothing but the 0 itself."
   ]
  },
  {
   "cell_type": "markdown",
   "id": "de25c283",
   "metadata": {},
   "source": [
    "### Calculate Precision and Recall\n",
    "\n",
    "Precision-Recall curves show how they are depend on each other at different thresholds. For that, we'll plot precision on the y-axis and recall on the x-axis."
   ]
  },
  {
   "cell_type": "code",
   "execution_count": 62,
   "id": "03492ac6",
   "metadata": {},
   "outputs": [
    {
     "data": {
      "image/png": "[encoded data removed]",
      "text/plain": [
       "<Figure size 640x480 with 1 Axes>"
      ]
     },
     "metadata": {},
     "output_type": "display_data"
    }
   ],
   "source": [
    "# Calculate and create column for precision and recall\n",
    "df_scores['precision'] = df_scores.tp / (df_scores.tp + df_scores.fp)\n",
    "df_scores['recall'] = df_scores.tp / (df_scores.tp + df_scores.fn)\n",
    "\n",
    "# Plot precision vs recall at different thresholds\n",
    "plt.plot(df_scores.recall, df_scores.precision)\n",
    "plt.xlabel('Recall')\n",
    "plt.ylabel('Precision')\n",
    "plt.title('Precision vs Recall')\n",
    "\n",
    "plt.show()"
   ]
  },
  {
   "cell_type": "markdown",
   "id": "74a0390f",
   "metadata": {},
   "source": [
    "### Calculate F1"
   ]
  },
  {
   "cell_type": "code",
   "execution_count": 63,
   "id": "256e0e1b",
   "metadata": {},
   "outputs": [
    {
     "data": {
      "image/png": "[encoded data removed]",
      "text/plain": [
       "<Figure size 640x480 with 1 Axes>"
      ]
     },
     "metadata": {},
     "output_type": "display_data"
    }
   ],
   "source": [
    "# Calculate and create a column for F1 score\n",
    "df_scores['f1'] = 2 * df_scores.precision * df_scores.recall / (df_scores.precision + df_scores.recall)\n",
    "\n",
    "# Plot f1 score (y-axis) and threshold (x-axis)\n",
    "plt.plot(df_scores.threshold, df_scores.f1)\n",
    "plt.xlabel('Threshold')\n",
    "plt.ylabel('F1')\n",
    "plt.vlines(0.29, 0, 0.63, color='green', linestyle='--', alpha=0.5)\n",
    "\n",
    "plt.show()"
   ]
  },
  {
   "cell_type": "markdown",
   "id": "4322789d",
   "metadata": {},
   "source": [
    "Around at `0.29` threshold we have the highest f1 score (63%).\n",
    "\n",
    "### Area under the PR curve\n",
    "\n",
    "Area under the PR curve is also a useful metric. In order the calculate AUCPR, first we need to check if there is any missing values in `precision` or `recall` column:"
   ]
  },
  {
   "cell_type": "code",
   "execution_count": 64,
   "id": "3f8dfa43",
   "metadata": {},
   "outputs": [
    {
     "data": {
      "text/plain": [
       "threshold     0\n",
       "tp            0\n",
       "fp            0\n",
       "fn            0\n",
       "tn            0\n",
       "tpr           0\n",
       "fpr           0\n",
       "precision    17\n",
       "recall        0\n",
       "f1           17\n",
       "dtype: int64"
      ]
     },
     "execution_count": 64,
     "metadata": {},
     "output_type": "execute_result"
    }
   ],
   "source": [
    "# Check the missing values in df_scores\n",
    "df_scores.isnull().sum()"
   ]
  },
  {
   "cell_type": "markdown",
   "id": "3c50acb0",
   "metadata": {},
   "source": [
    "Indeed precision has 17 missing values. Let's remove them from df_scores dataframe."
   ]
  },
  {
   "cell_type": "code",
   "execution_count": 65,
   "id": "1e863a9f",
   "metadata": {},
   "outputs": [],
   "source": [
    "# Remove missing values in 'df_scores'\n",
    "df_scores = df_scores.dropna()"
   ]
  },
  {
   "cell_type": "code",
   "execution_count": 66,
   "id": "f01c27b1",
   "metadata": {},
   "outputs": [
    {
     "data": {
      "text/plain": [
       "0.6588872541502774"
      ]
     },
     "execution_count": 66,
     "metadata": {},
     "output_type": "execute_result"
    }
   ],
   "source": [
    "from sklearn.metrics import auc\n",
    "\n",
    "# Calculate AUCPR\n",
    "auc(df_scores.recall, df_scores.precision)"
   ]
  },
  {
   "cell_type": "markdown",
   "id": "f8242a40",
   "metadata": {},
   "source": [
    "The closer AUCPR value is to 1 the better it is. The ideal spot where AUCPR is 1 when PR curve is at (1, 1)"
   ]
  }
 ],
 "metadata": {
  "kernelspec": {
   "display_name": "Python 3 (ipykernel)",
   "language": "python",
   "name": "python3"
  },
  "language_info": {
   "codemirror_mode": {
    "name": "ipython",
    "version": 3
   },
   "file_extension": ".py",
   "mimetype": "text/x-python",
   "name": "python",
   "nbconvert_exporter": "python",
   "pygments_lexer": "ipython3",
   "version": "3.9.13"
  }
 },
 "nbformat": 4,
 "nbformat_minor": 5
}
