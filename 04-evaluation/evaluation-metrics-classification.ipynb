{
 "cells": [
  {
   "cell_type": "code",
   "execution_count": 1,
   "id": "da81b72a",
   "metadata": {},
   "outputs": [
    {
     "data": {
      "application/javascript": [
       "IPython.notebook.set_autosave_interval(0)"
      ]
     },
     "metadata": {},
     "output_type": "display_data"
    },
    {
     "name": "stdout",
     "output_type": "stream",
     "text": [
      "Autosave disabled\n"
     ]
    }
   ],
   "source": [
    "%autosave 0"
   ]
  },
  {
   "cell_type": "markdown",
   "id": "8ead2cd2",
   "metadata": {},
   "source": [
    "# 4. Evaluation Metrics For Classification\n",
    "\n",
    "In the previous session we trained a model for predicting churn. How do we know if it's good?\n",
    "\n",
    "## 4.1 Evaluation metrics: Session Overview\n",
    "\n",
    "- Dataset: https://www.kaggle.com/blastchar/telco-customer-churn\n",
    "- https://raw.githubusercontent.com/alexeygrigorev/mlbookcamp-code/master/chapter-03-churn-prediction/WA_Fn-UseC_-Telco-Customer-Churn.csv\n",
    "\n",
    "**Metric - function that compares the predictions with the actual values and outputs a single number that tells how good the predictions are*"
   ]
  },
  {
   "cell_type": "code",
   "execution_count": 2,
   "id": "733c7de2",
   "metadata": {},
   "outputs": [],
   "source": [
    "import numpy as np\n",
    "import pandas as pd\n",
    "import matplotlib.pyplot as plt\n",
    "\n",
    "from sklearn.model_selection import train_test_split\n",
    "from sklearn.feature_extraction import DictVectorizer\n",
    "from sklearn.linear_model import LogisticRegression\n",
    "\n",
    "%matplotlib inline"
   ]
  },
  {
   "cell_type": "markdown",
   "id": "7da84f61",
   "metadata": {},
   "source": [
    "Following steps we have already implemented and understood in the session 3:"
   ]
  },
  {
   "cell_type": "code",
   "execution_count": 3,
   "id": "a682d60d",
   "metadata": {},
   "outputs": [],
   "source": [
    "# Load data\n",
    "df = pd.read_csv('../03-classification/churn-data.csv')\n",
    "\n",
    "# Clean column names\n",
    "df.columns = df.columns.str.lower().str.replace(' ', '_')\n",
    "\n",
    "# Extract categorical column names from df\n",
    "categorical_columns = df.select_dtypes('object').columns.tolist()\n",
    "\n",
    "# Clean values in the categorical_columns\n",
    "for col in categorical_columns:\n",
    "    df[col] = df[col].str.lower().str.replace(' ', '_')\n",
    "    \n",
    "# Convert column totalcharges to numeric\n",
    "df.totalcharges = pd.to_numeric(df.totalcharges, errors='coerce')\n",
    "\n",
    "# Fill missing values of totalcharges with 0\n",
    "df.totalcharges = df.totalcharges.fillna(0)\n",
    "\n",
    "# Convert target variable churn from bool to binary integer\n",
    "df.churn = (df.churn == 'yes').astype(int)"
   ]
  },
  {
   "cell_type": "code",
   "execution_count": 4,
   "id": "96ee3d54",
   "metadata": {},
   "outputs": [],
   "source": [
    "# Split 80% train and 20% test sets\n",
    "df_full_train, df_test = train_test_split(df, test_size=0.2, random_state=1)\n",
    "\n",
    "# Split 60% train and 20% validation sets\n",
    "df_train, df_val = train_test_split(df_full_train, test_size=0.25, random_state=1)\n",
    "\n",
    "# Reset indexes\n",
    "df_train = df_train.reset_index(drop=True)\n",
    "df_val = df_val.reset_index(drop=True)\n",
    "df_test = df_test.reset_index(drop=True)\n",
    "\n",
    "# Create target variable for train/val/test\n",
    "y_train = df_train.churn.values\n",
    "y_val = df_val.churn.values\n",
    "y_test = df_test.churn.values\n",
    "\n",
    "# Delete target valriable churn from features\n",
    "del df_train['churn']\n",
    "del df_val['churn']\n",
    "del df_test['churn']"
   ]
  },
  {
   "cell_type": "code",
   "execution_count": 5,
   "id": "192e3d51",
   "metadata": {},
   "outputs": [],
   "source": [
    "# Create list of numeric and categorical columns (exclude customerid)\n",
    "# note: seniorcitizen column is categorical\n",
    "numerical = ['tenure', 'monthlycharges', 'totalcharges']\n",
    "\n",
    "categorical = ['gender', 'seniorcitizen', 'partner',\n",
    "               'dependents', 'phoneservice', 'multiplelines',\n",
    "               'internetservice', 'onlinesecurity', 'onlinebackup',\n",
    "               'deviceprotection', 'techsupport', 'streamingtv',\n",
    "               'streamingmovies', 'contract', 'paperlessbilling',\n",
    "               'paymentmethod']"
   ]
  },
  {
   "cell_type": "code",
   "execution_count": 6,
   "id": "3f2a686f",
   "metadata": {},
   "outputs": [
    {
     "data": {
      "text/html": [
       "<style>#sk-container-id-1 {color: black;background-color: white;}#sk-container-id-1 pre{padding: 0;}#sk-container-id-1 div.sk-toggleable {background-color: white;}#sk-container-id-1 label.sk-toggleable__label {cursor: pointer;display: block;width: 100%;margin-bottom: 0;padding: 0.3em;box-sizing: border-box;text-align: center;}#sk-container-id-1 label.sk-toggleable__label-arrow:before {content: \"▸\";float: left;margin-right: 0.25em;color: #696969;}#sk-container-id-1 label.sk-toggleable__label-arrow:hover:before {color: black;}#sk-container-id-1 div.sk-estimator:hover label.sk-toggleable__label-arrow:before {color: black;}#sk-container-id-1 div.sk-toggleable__content {max-height: 0;max-width: 0;overflow: hidden;text-align: left;background-color: #f0f8ff;}#sk-container-id-1 div.sk-toggleable__content pre {margin: 0.2em;color: black;border-radius: 0.25em;background-color: #f0f8ff;}#sk-container-id-1 input.sk-toggleable__control:checked~div.sk-toggleable__content {max-height: 200px;max-width: 100%;overflow: auto;}#sk-container-id-1 input.sk-toggleable__control:checked~label.sk-toggleable__label-arrow:before {content: \"▾\";}#sk-container-id-1 div.sk-estimator input.sk-toggleable__control:checked~label.sk-toggleable__label {background-color: #d4ebff;}#sk-container-id-1 div.sk-label input.sk-toggleable__control:checked~label.sk-toggleable__label {background-color: #d4ebff;}#sk-container-id-1 input.sk-hidden--visually {border: 0;clip: rect(1px 1px 1px 1px);clip: rect(1px, 1px, 1px, 1px);height: 1px;margin: -1px;overflow: hidden;padding: 0;position: absolute;width: 1px;}#sk-container-id-1 div.sk-estimator {font-family: monospace;background-color: #f0f8ff;border: 1px dotted black;border-radius: 0.25em;box-sizing: border-box;margin-bottom: 0.5em;}#sk-container-id-1 div.sk-estimator:hover {background-color: #d4ebff;}#sk-container-id-1 div.sk-parallel-item::after {content: \"\";width: 100%;border-bottom: 1px solid gray;flex-grow: 1;}#sk-container-id-1 div.sk-label:hover label.sk-toggleable__label {background-color: #d4ebff;}#sk-container-id-1 div.sk-serial::before {content: \"\";position: absolute;border-left: 1px solid gray;box-sizing: border-box;top: 0;bottom: 0;left: 50%;z-index: 0;}#sk-container-id-1 div.sk-serial {display: flex;flex-direction: column;align-items: center;background-color: white;padding-right: 0.2em;padding-left: 0.2em;position: relative;}#sk-container-id-1 div.sk-item {position: relative;z-index: 1;}#sk-container-id-1 div.sk-parallel {display: flex;align-items: stretch;justify-content: center;background-color: white;position: relative;}#sk-container-id-1 div.sk-item::before, #sk-container-id-1 div.sk-parallel-item::before {content: \"\";position: absolute;border-left: 1px solid gray;box-sizing: border-box;top: 0;bottom: 0;left: 50%;z-index: -1;}#sk-container-id-1 div.sk-parallel-item {display: flex;flex-direction: column;z-index: 1;position: relative;background-color: white;}#sk-container-id-1 div.sk-parallel-item:first-child::after {align-self: flex-end;width: 50%;}#sk-container-id-1 div.sk-parallel-item:last-child::after {align-self: flex-start;width: 50%;}#sk-container-id-1 div.sk-parallel-item:only-child::after {width: 0;}#sk-container-id-1 div.sk-dashed-wrapped {border: 1px dashed gray;margin: 0 0.4em 0.5em 0.4em;box-sizing: border-box;padding-bottom: 0.4em;background-color: white;}#sk-container-id-1 div.sk-label label {font-family: monospace;font-weight: bold;display: inline-block;line-height: 1.2em;}#sk-container-id-1 div.sk-label-container {text-align: center;}#sk-container-id-1 div.sk-container {/* jupyter's `normalize.less` sets `[hidden] { display: none; }` but bootstrap.min.css set `[hidden] { display: none !important; }` so we also need the `!important` here to be able to override the default hidden behavior on the sphinx rendered scikit-learn.org. See: https://github.com/scikit-learn/scikit-learn/issues/21755 */display: inline-block !important;position: relative;}#sk-container-id-1 div.sk-text-repr-fallback {display: none;}</style><div id=\"sk-container-id-1\" class=\"sk-top-container\"><div class=\"sk-text-repr-fallback\"><pre>LogisticRegression()</pre><b>In a Jupyter environment, please rerun this cell to show the HTML representation or trust the notebook. <br />On GitHub, the HTML representation is unable to render, please try loading this page with nbviewer.org.</b></div><div class=\"sk-container\" hidden><div class=\"sk-item\"><div class=\"sk-estimator sk-toggleable\"><input class=\"sk-toggleable__control sk-hidden--visually\" id=\"sk-estimator-id-1\" type=\"checkbox\" checked><label for=\"sk-estimator-id-1\" class=\"sk-toggleable__label sk-toggleable__label-arrow\">LogisticRegression</label><div class=\"sk-toggleable__content\"><pre>LogisticRegression()</pre></div></div></div></div></div>"
      ],
      "text/plain": [
       "LogisticRegression()"
      ]
     },
     "execution_count": 6,
     "metadata": {},
     "output_type": "execute_result"
    }
   ],
   "source": [
    "# Instantiate DictVectorizer(sparse=False)\n",
    "dv = DictVectorizer(sparse=False)\n",
    "\n",
    "# Convert df_train to dictionary\n",
    "train_dict = df_train[categorical + numerical].to_dict(orient='records')\n",
    "\n",
    "# Transform and fit train_dict using dv\n",
    "X_train = dv.fit_transform(train_dict)\n",
    "\n",
    "# Create model and fit the model to train\n",
    "model = LogisticRegression()\n",
    "model.fit(X_train, y_train)"
   ]
  },
  {
   "cell_type": "code",
   "execution_count": 7,
   "id": "4d95123d",
   "metadata": {},
   "outputs": [
    {
     "data": {
      "text/plain": [
       "0.8034066713981547"
      ]
     },
     "execution_count": 7,
     "metadata": {},
     "output_type": "execute_result"
    }
   ],
   "source": [
    "# Convert validation from dataframe to dictionary\n",
    "val_dict = df_val[categorical + numerical].to_dict(orient='records')\n",
    "\n",
    "# Transform data\n",
    "X_val = dv.transform(val_dict)\n",
    "\n",
    "# Make prediction\n",
    "y_pred = model.predict_proba(X_val)[:, 1]\n",
    "\n",
    "# Calculate model accuracy\n",
    "churn_decision = y_pred >= 0.5\n",
    "(y_val == churn_decision).mean()"
   ]
  },
  {
   "cell_type": "markdown",
   "id": "71b87744",
   "metadata": {},
   "source": [
    "## 4.2 Accuracy and Dummy Model\n",
    "\n",
    "- Evaluate the model on different thresholds\n",
    "- Check the accuracy of dummy baselines"
   ]
  },
  {
   "cell_type": "code",
   "execution_count": 8,
   "id": "7927824f",
   "metadata": {},
   "outputs": [
    {
     "data": {
      "text/plain": [
       "0.8034066713981547"
      ]
     },
     "execution_count": 8,
     "metadata": {},
     "output_type": "execute_result"
    }
   ],
   "source": [
    "# Calculate the accuracy again\n",
    "(y_val == churn_decision).mean()"
   ]
  },
  {
   "cell_type": "markdown",
   "id": "8e403391",
   "metadata": {},
   "source": [
    "We can see the model accuracy is 80% when the threshold is `0.5`. Basically, the accuracy is measured by calculating the `correct predictions` divided by `total number of predictions`. Let's manually apply the accuracy below:"
   ]
  },
  {
   "cell_type": "code",
   "execution_count": 9,
   "id": "fe133992",
   "metadata": {},
   "outputs": [
    {
     "data": {
      "text/plain": [
       "0.8034066713981547"
      ]
     },
     "execution_count": 9,
     "metadata": {},
     "output_type": "execute_result"
    }
   ],
   "source": [
    "correct_preds = (y_val == churn_decision).sum()\n",
    "total_preds = len(churn_decision)\n",
    "\n",
    "correct_preds / total_preds"
   ]
  },
  {
   "cell_type": "markdown",
   "id": "4cf777ae",
   "metadata": {},
   "source": [
    "Indeed we get the same accuracy. We can also accuracy the accuracy using sklearn."
   ]
  },
  {
   "cell_type": "code",
   "execution_count": 10,
   "id": "c6bf07f5",
   "metadata": {},
   "outputs": [
    {
     "data": {
      "text/plain": [
       "0.8034066713981547"
      ]
     },
     "execution_count": 10,
     "metadata": {},
     "output_type": "execute_result"
    }
   ],
   "source": [
    "from sklearn.metrics import accuracy_score\n",
    "\n",
    "accuracy_score(y_val, churn_decision)"
   ]
  },
  {
   "cell_type": "markdown",
   "id": "0d722bc4",
   "metadata": {},
   "source": [
    "By default, logistic regression uses 0.5 threshold to optimize the results for accuracy. Let's see what happens when we calculate the accuracy on different thresholds, for that we'll create a dummy model for evaluation."
   ]
  },
  {
   "cell_type": "code",
   "execution_count": 11,
   "id": "f7810e5e",
   "metadata": {},
   "outputs": [
    {
     "name": "stdout",
     "output_type": "stream",
     "text": [
      "0.00 - 0.274\n",
      "0.05 - 0.509\n",
      "0.10 - 0.591\n",
      "0.15 - 0.666\n",
      "0.20 - 0.710\n",
      "0.25 - 0.739\n",
      "0.30 - 0.760\n",
      "0.35 - 0.772\n",
      "0.40 - 0.785\n",
      "0.45 - 0.793\n",
      "0.50 - 0.803\n",
      "0.55 - 0.801\n",
      "0.60 - 0.795\n",
      "0.65 - 0.786\n",
      "0.70 - 0.765\n",
      "0.75 - 0.744\n",
      "0.80 - 0.735\n",
      "0.85 - 0.726\n",
      "0.90 - 0.726\n",
      "0.95 - 0.726\n",
      "1.00 - 0.726\n"
     ]
    }
   ],
   "source": [
    "# Create an array of 21 different thresholds between 0 and 1 \n",
    "thresholds = np.linspace(0, 1, 21)\n",
    "\n",
    "# List to store accuracy\n",
    "scores = []\n",
    "for t in thresholds:\n",
    "    churn_decision = y_pred >= t\n",
    "    score = accuracy_score(y_val, churn_decision)\n",
    "    scores.append(score)\n",
    "    print(f'{t:.2f} - {score:.3f}')"
   ]
  },
  {
   "cell_type": "code",
   "execution_count": 12,
   "id": "5f9f7708",
   "metadata": {},
   "outputs": [
    {
     "data": {
      "image/png": "[encoded data removed]",
      "text/plain": [
       "<Figure size 640x480 with 1 Axes>"
      ]
     },
     "metadata": {},
     "output_type": "display_data"
    }
   ],
   "source": [
    "# Plot the thresholds and scores\n",
    "plt.plot(thresholds, scores)\n",
    "plt.xlabel('threshold')\n",
    "plt.ylabel('score')\n",
    "plt.show();"
   ]
  },
  {
   "cell_type": "markdown",
   "id": "a4a2bd51",
   "metadata": {},
   "source": [
    "As we can see the best accuracy is at threshold 0.5. But what this graph actually tells us? To answer that, let's look at the distribution of the prdictions when the threshold is 1.0."
   ]
  },
  {
   "cell_type": "code",
   "execution_count": 13,
   "id": "39ae208e",
   "metadata": {},
   "outputs": [
    {
     "data": {
      "text/plain": [
       "Counter({False: 1409})"
      ]
     },
     "execution_count": 13,
     "metadata": {},
     "output_type": "execute_result"
    }
   ],
   "source": [
    "from collections import Counter\n",
    "\n",
    "# Count customers distribution for churn and not churn on predictions\n",
    "Counter(y_pred >= 1.0)"
   ]
  },
  {
   "cell_type": "markdown",
   "id": "85e44200",
   "metadata": {},
   "source": [
    "Predictions at the threshold 1.0 tells us that no customer is going to churn (`1409 total number of customer`) but when we look at the actual values (y_val) the distribution is different."
   ]
  },
  {
   "cell_type": "code",
   "execution_count": 14,
   "id": "53dbf373",
   "metadata": {},
   "outputs": [
    {
     "data": {
      "text/plain": [
       "Counter({0: 1023, 1: 386})"
      ]
     },
     "execution_count": 14,
     "metadata": {},
     "output_type": "execute_result"
    }
   ],
   "source": [
    "# Count customers distribution for churn and not churn on validation\n",
    "Counter(y_val)"
   ]
  },
  {
   "cell_type": "markdown",
   "id": "fbc0de05",
   "metadata": {},
   "source": [
    "The actual values tell us that 1023 customers did not churn and 386 churned.\n",
    "\n",
    "So, the dummy model predicts at threshold 1.0 no customer will churn and it gives us the accuracy of approximately 73% accuracy, which makes the difference of only 7% compare to the original model (80%). Therefore, accuracy metric can't exactly tells us how good is our model and that's because our data has imbalance classes with the ratio of 3:1. \n",
    "\n",
    "These results will be misleading, hence, we need other metrics for model evaluation."
   ]
  },
  {
   "cell_type": "markdown",
   "id": "41169ac0",
   "metadata": {},
   "source": [
    "## 4.3 Confusion Table\n",
    "\n",
    "- Different types of errors and correct decisions\n",
    "- Arranging them in a table\n",
    "\n",
    "Confusion table tells us how many prediction our model has made correct and how many it has made incorrect. For binary classification classifier, there are possiblities that can happen in terms of predictions:\n",
    "\n",
    "- Churn (Positive class)\n",
    "    - Customer churned (TP)\n",
    "    - Customer did not churn (FP)\n",
    "- Not churn (Negative class)\n",
    "    - Customer churned (TN)\n",
    "    - Customer did not churn (FN)\n",
    "    \n",
    "Confusion table is helpful to analysis the quality of the model and how close it is making predictions to the acutal values. We can make the confusion table in numpy in the following way:"
   ]
  },
  {
   "cell_type": "code",
   "execution_count": 15,
   "id": "cf2a9a12",
   "metadata": {},
   "outputs": [],
   "source": [
    "# Create arrays to represent actual class labels\n",
    "actual_positive = y_val == 1\n",
    "actual_negative = y_val == 0"
   ]
  },
  {
   "cell_type": "code",
   "execution_count": 16,
   "id": "f61104e1",
   "metadata": {},
   "outputs": [],
   "source": [
    "# Create arrays to represent predicted class labels\n",
    "t = 0.5 # threshold\n",
    "predict_positive = y_pred >= t\n",
    "predict_negative = y_pred < t"
   ]
  },
  {
   "cell_type": "markdown",
   "id": "603c6827",
   "metadata": {},
   "source": [
    "Now we have the actual and predicted class labels, we can combine them to derive tp, tn, fp, and fn:"
   ]
  },
  {
   "cell_type": "code",
   "execution_count": 17,
   "id": "ff93c53d",
   "metadata": {},
   "outputs": [],
   "source": [
    "# Calculate number of true positive class labels\n",
    "tp = (predict_positive & actual_positive).sum()\n",
    "# Calculate number of true negative class labels\n",
    "tn = (predict_negative & actual_negative).sum()\n",
    "\n",
    "# Calculate number of false positive class labels\n",
    "fp = (predict_positive & actual_negative).sum()\n",
    "# Calculate number of false negative class labels\n",
    "fn = (predict_negative & actual_positive).sum()"
   ]
  },
  {
   "cell_type": "code",
   "execution_count": 18,
   "id": "2c4b5088",
   "metadata": {},
   "outputs": [
    {
     "data": {
      "text/plain": [
       "array([[922, 101],\n",
       "       [176, 210]])"
      ]
     },
     "execution_count": 18,
     "metadata": {},
     "output_type": "execute_result"
    }
   ],
   "source": [
    "# Create confusion matrix\n",
    "confusion_matrix = np.array([\n",
    "    [tn, fp],\n",
    "    [fn, tp]\n",
    "])\n",
    "\n",
    "confusion_matrix"
   ]
  },
  {
   "cell_type": "markdown",
   "id": "7881b52c",
   "metadata": {},
   "source": [
    "We can get the ratio of these values by dividing confusion matrix with its sum."
   ]
  },
  {
   "cell_type": "code",
   "execution_count": 19,
   "id": "e7a212bd",
   "metadata": {},
   "outputs": [
    {
     "data": {
      "text/plain": [
       "array([[0.65, 0.07],\n",
       "       [0.12, 0.15]])"
      ]
     },
     "execution_count": 19,
     "metadata": {},
     "output_type": "execute_result"
    }
   ],
   "source": [
    "(confusion_matrix / confusion_matrix.sum()).round(2)"
   ]
  },
  {
   "cell_type": "markdown",
   "id": "f1d48787",
   "metadata": {},
   "source": [
    "As we have talked about it earlier the accuracy, it is the correct predictions (tn + tp) that our model made. The confusion matrix is telling us exactly that (`65% + 15% = 80%`), and that was indeed the model predictions. We can calculate the accuracy using the formula:\n",
    "\n",
    "$$\\frac{TN + TP}{TN + TP + FN + FP}$$"
   ]
  },
  {
   "cell_type": "code",
   "execution_count": 20,
   "id": "3e83536a",
   "metadata": {},
   "outputs": [
    {
     "data": {
      "text/plain": [
       "80.0"
      ]
     },
     "execution_count": 20,
     "metadata": {},
     "output_type": "execute_result"
    }
   ],
   "source": [
    "# Calculate accuracy\n",
    "acc = (tn + tp) / (tn + tp + fn + fp)\n",
    "acc.round(2)*100"
   ]
  },
  {
   "cell_type": "markdown",
   "id": "c5b4b391",
   "metadata": {},
   "source": [
    "## 4.4 Precision and Recall\n",
    "\n",
    "If we consider the problem we have in hand, we can say that:\n",
    "- **Precision**: Among all the customers classified by the model as potential churn, the fraction of that ended up to churned\n",
    "- **Recall**: Among all the customers that ended up to churned, the fraction of that the model correctly classified\n",
    "\n",
    "Precision is the fraction of TP divided by TP + FP, therefore it only consider positive labels: \n",
    "\n",
    "$$\\frac{TP}{TP + FP}$$\n",
    "\n",
    "Recall is the fraction of TP divided by TP + FN:\n",
    "\n",
    "$$\\frac{TP}{TP + FN}$$\n",
    "\n",
    "Let's see how we can calculate them:"
   ]
  },
  {
   "cell_type": "code",
   "execution_count": 21,
   "id": "2b998cb0",
   "metadata": {},
   "outputs": [
    {
     "data": {
      "text/plain": [
       "0.68"
      ]
     },
     "execution_count": 21,
     "metadata": {},
     "output_type": "execute_result"
    }
   ],
   "source": [
    "# Calculate precision\n",
    "p = tp / (tp + fp)\n",
    "p.round(2)"
   ]
  },
  {
   "cell_type": "markdown",
   "id": "50e9da47",
   "metadata": {},
   "source": [
    "We get the precision of 68% and what that means it 22% of the customer who were not going to churn but got the promotion."
   ]
  },
  {
   "cell_type": "code",
   "execution_count": 24,
   "id": "4df1c6cc",
   "metadata": {},
   "outputs": [
    {
     "data": {
      "text/plain": [
       "0.54"
      ]
     },
     "execution_count": 24,
     "metadata": {},
     "output_type": "execute_result"
    }
   ],
   "source": [
    "# Calculate recall\n",
    "r = tp / (tp + fn)\n",
    "r.round(2)"
   ]
  },
  {
   "cell_type": "markdown",
   "id": "edc3f1a0",
   "metadata": {},
   "source": [
    "Recall is 54% which means our model failed to identify 46% of customer who are churning.\n",
    "\n",
    "Precision and recall give us the complete picture of the model performance and that's why making assumption on the basis of accuracy can be misleading due to imbalance class distribution.\n",
    "\n",
    "## 4.5 ROC Curves\n",
    "\n",
    "### TPR and FRP\n",
    "\n"
   ]
  },
  {
   "cell_type": "markdown",
   "id": "f6d03eb4",
   "metadata": {},
   "source": []
  }
 ],
 "metadata": {
  "kernelspec": {
   "display_name": "Python 3 (ipykernel)",
   "language": "python",
   "name": "python3"
  },
  "language_info": {
   "codemirror_mode": {
    "name": "ipython",
    "version": 3
   },
   "file_extension": ".py",
   "mimetype": "text/x-python",
   "name": "python",
   "nbconvert_exporter": "python",
   "pygments_lexer": "ipython3",
   "version": "3.9.13"
  }
 },
 "nbformat": 4,
 "nbformat_minor": 5
}
